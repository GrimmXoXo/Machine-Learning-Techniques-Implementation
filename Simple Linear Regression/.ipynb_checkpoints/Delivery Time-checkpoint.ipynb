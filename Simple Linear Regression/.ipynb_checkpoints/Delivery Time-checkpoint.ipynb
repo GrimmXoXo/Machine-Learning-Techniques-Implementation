{
 "cells": [
  {
   "cell_type": "code",
   "execution_count": 1,
   "id": "4efe4533",
   "metadata": {},
   "outputs": [],
   "source": [
    "import pandas as pd\n",
    "import numpy as np\n",
    "import matplotlib.pyplot as plt\n",
    "import seaborn as sns\n",
    "import celluloid\n",
    "from celluloid import Camera"
   ]
  },
  {
   "cell_type": "code",
   "execution_count": 2,
   "id": "7335c29c",
   "metadata": {},
   "outputs": [],
   "source": [
    "data=pd.read_csv('delivery_time.csv')"
   ]
  },
  {
   "cell_type": "code",
   "execution_count": 3,
   "id": "fd269eb4",
   "metadata": {},
   "outputs": [
    {
     "data": {
      "text/plain": [
       "(21, 2)"
      ]
     },
     "execution_count": 3,
     "metadata": {},
     "output_type": "execute_result"
    }
   ],
   "source": [
    "data.shape"
   ]
  },
  {
   "cell_type": "code",
   "execution_count": 4,
   "id": "36dfd1b9",
   "metadata": {},
   "outputs": [
    {
     "data": {
      "text/html": [
       "<div>\n",
       "<style scoped>\n",
       "    .dataframe tbody tr th:only-of-type {\n",
       "        vertical-align: middle;\n",
       "    }\n",
       "\n",
       "    .dataframe tbody tr th {\n",
       "        vertical-align: top;\n",
       "    }\n",
       "\n",
       "    .dataframe thead th {\n",
       "        text-align: right;\n",
       "    }\n",
       "</style>\n",
       "<table border=\"1\" class=\"dataframe\">\n",
       "  <thead>\n",
       "    <tr style=\"text-align: right;\">\n",
       "      <th></th>\n",
       "      <th>Delivery Time</th>\n",
       "      <th>Sorting Time</th>\n",
       "    </tr>\n",
       "  </thead>\n",
       "  <tbody>\n",
       "    <tr>\n",
       "      <th>0</th>\n",
       "      <td>21.00</td>\n",
       "      <td>10</td>\n",
       "    </tr>\n",
       "    <tr>\n",
       "      <th>1</th>\n",
       "      <td>13.50</td>\n",
       "      <td>4</td>\n",
       "    </tr>\n",
       "    <tr>\n",
       "      <th>2</th>\n",
       "      <td>19.75</td>\n",
       "      <td>6</td>\n",
       "    </tr>\n",
       "    <tr>\n",
       "      <th>3</th>\n",
       "      <td>24.00</td>\n",
       "      <td>9</td>\n",
       "    </tr>\n",
       "    <tr>\n",
       "      <th>4</th>\n",
       "      <td>29.00</td>\n",
       "      <td>10</td>\n",
       "    </tr>\n",
       "    <tr>\n",
       "      <th>5</th>\n",
       "      <td>15.35</td>\n",
       "      <td>6</td>\n",
       "    </tr>\n",
       "    <tr>\n",
       "      <th>6</th>\n",
       "      <td>19.00</td>\n",
       "      <td>7</td>\n",
       "    </tr>\n",
       "    <tr>\n",
       "      <th>7</th>\n",
       "      <td>9.50</td>\n",
       "      <td>3</td>\n",
       "    </tr>\n",
       "    <tr>\n",
       "      <th>8</th>\n",
       "      <td>17.90</td>\n",
       "      <td>10</td>\n",
       "    </tr>\n",
       "    <tr>\n",
       "      <th>9</th>\n",
       "      <td>18.75</td>\n",
       "      <td>9</td>\n",
       "    </tr>\n",
       "    <tr>\n",
       "      <th>10</th>\n",
       "      <td>19.83</td>\n",
       "      <td>8</td>\n",
       "    </tr>\n",
       "    <tr>\n",
       "      <th>11</th>\n",
       "      <td>10.75</td>\n",
       "      <td>4</td>\n",
       "    </tr>\n",
       "    <tr>\n",
       "      <th>12</th>\n",
       "      <td>16.68</td>\n",
       "      <td>7</td>\n",
       "    </tr>\n",
       "    <tr>\n",
       "      <th>13</th>\n",
       "      <td>11.50</td>\n",
       "      <td>3</td>\n",
       "    </tr>\n",
       "    <tr>\n",
       "      <th>14</th>\n",
       "      <td>12.03</td>\n",
       "      <td>3</td>\n",
       "    </tr>\n",
       "    <tr>\n",
       "      <th>15</th>\n",
       "      <td>14.88</td>\n",
       "      <td>4</td>\n",
       "    </tr>\n",
       "    <tr>\n",
       "      <th>16</th>\n",
       "      <td>13.75</td>\n",
       "      <td>6</td>\n",
       "    </tr>\n",
       "    <tr>\n",
       "      <th>17</th>\n",
       "      <td>18.11</td>\n",
       "      <td>7</td>\n",
       "    </tr>\n",
       "    <tr>\n",
       "      <th>18</th>\n",
       "      <td>8.00</td>\n",
       "      <td>2</td>\n",
       "    </tr>\n",
       "    <tr>\n",
       "      <th>19</th>\n",
       "      <td>17.83</td>\n",
       "      <td>7</td>\n",
       "    </tr>\n",
       "    <tr>\n",
       "      <th>20</th>\n",
       "      <td>21.50</td>\n",
       "      <td>5</td>\n",
       "    </tr>\n",
       "  </tbody>\n",
       "</table>\n",
       "</div>"
      ],
      "text/plain": [
       "    Delivery Time  Sorting Time\n",
       "0           21.00            10\n",
       "1           13.50             4\n",
       "2           19.75             6\n",
       "3           24.00             9\n",
       "4           29.00            10\n",
       "5           15.35             6\n",
       "6           19.00             7\n",
       "7            9.50             3\n",
       "8           17.90            10\n",
       "9           18.75             9\n",
       "10          19.83             8\n",
       "11          10.75             4\n",
       "12          16.68             7\n",
       "13          11.50             3\n",
       "14          12.03             3\n",
       "15          14.88             4\n",
       "16          13.75             6\n",
       "17          18.11             7\n",
       "18           8.00             2\n",
       "19          17.83             7\n",
       "20          21.50             5"
      ]
     },
     "execution_count": 4,
     "metadata": {},
     "output_type": "execute_result"
    }
   ],
   "source": [
    "data"
   ]
  },
  {
   "cell_type": "code",
   "execution_count": 5,
   "id": "732ae7c1",
   "metadata": {},
   "outputs": [
    {
     "data": {
      "text/html": [
       "<div>\n",
       "<style scoped>\n",
       "    .dataframe tbody tr th:only-of-type {\n",
       "        vertical-align: middle;\n",
       "    }\n",
       "\n",
       "    .dataframe tbody tr th {\n",
       "        vertical-align: top;\n",
       "    }\n",
       "\n",
       "    .dataframe thead th {\n",
       "        text-align: right;\n",
       "    }\n",
       "</style>\n",
       "<table border=\"1\" class=\"dataframe\">\n",
       "  <thead>\n",
       "    <tr style=\"text-align: right;\">\n",
       "      <th></th>\n",
       "      <th>Delivery Time</th>\n",
       "      <th>Sorting Time</th>\n",
       "    </tr>\n",
       "  </thead>\n",
       "  <tbody>\n",
       "    <tr>\n",
       "      <th>count</th>\n",
       "      <td>21.000000</td>\n",
       "      <td>21.000000</td>\n",
       "    </tr>\n",
       "    <tr>\n",
       "      <th>mean</th>\n",
       "      <td>16.790952</td>\n",
       "      <td>6.190476</td>\n",
       "    </tr>\n",
       "    <tr>\n",
       "      <th>std</th>\n",
       "      <td>5.074901</td>\n",
       "      <td>2.542028</td>\n",
       "    </tr>\n",
       "    <tr>\n",
       "      <th>min</th>\n",
       "      <td>8.000000</td>\n",
       "      <td>2.000000</td>\n",
       "    </tr>\n",
       "    <tr>\n",
       "      <th>25%</th>\n",
       "      <td>13.500000</td>\n",
       "      <td>4.000000</td>\n",
       "    </tr>\n",
       "    <tr>\n",
       "      <th>50%</th>\n",
       "      <td>17.830000</td>\n",
       "      <td>6.000000</td>\n",
       "    </tr>\n",
       "    <tr>\n",
       "      <th>75%</th>\n",
       "      <td>19.750000</td>\n",
       "      <td>8.000000</td>\n",
       "    </tr>\n",
       "    <tr>\n",
       "      <th>max</th>\n",
       "      <td>29.000000</td>\n",
       "      <td>10.000000</td>\n",
       "    </tr>\n",
       "  </tbody>\n",
       "</table>\n",
       "</div>"
      ],
      "text/plain": [
       "       Delivery Time  Sorting Time\n",
       "count      21.000000     21.000000\n",
       "mean       16.790952      6.190476\n",
       "std         5.074901      2.542028\n",
       "min         8.000000      2.000000\n",
       "25%        13.500000      4.000000\n",
       "50%        17.830000      6.000000\n",
       "75%        19.750000      8.000000\n",
       "max        29.000000     10.000000"
      ]
     },
     "execution_count": 5,
     "metadata": {},
     "output_type": "execute_result"
    }
   ],
   "source": [
    "data.describe()"
   ]
  },
  {
   "cell_type": "code",
   "execution_count": 6,
   "id": "1d7150df",
   "metadata": {},
   "outputs": [
    {
     "data": {
      "text/plain": [
       "<AxesSubplot:>"
      ]
     },
     "execution_count": 6,
     "metadata": {},
     "output_type": "execute_result"
    },
    {
     "data": {
      "image/png": "[encoded data removed]",
      "text/plain": [
       "<Figure size 432x288 with 1 Axes>"
      ]
     },
     "metadata": {
      "needs_background": "light"
     },
     "output_type": "display_data"
    }
   ],
   "source": [
    "data.boxplot()#No outliers"
   ]
  },
  {
   "cell_type": "code",
   "execution_count": 7,
   "id": "1e32bc50",
   "metadata": {},
   "outputs": [
    {
     "data": {
      "text/html": [
       "<div>\n",
       "<style scoped>\n",
       "    .dataframe tbody tr th:only-of-type {\n",
       "        vertical-align: middle;\n",
       "    }\n",
       "\n",
       "    .dataframe tbody tr th {\n",
       "        vertical-align: top;\n",
       "    }\n",
       "\n",
       "    .dataframe thead th {\n",
       "        text-align: right;\n",
       "    }\n",
       "</style>\n",
       "<table border=\"1\" class=\"dataframe\">\n",
       "  <thead>\n",
       "    <tr style=\"text-align: right;\">\n",
       "      <th></th>\n",
       "      <th>Delivery Time</th>\n",
       "      <th>Sorting Time</th>\n",
       "    </tr>\n",
       "  </thead>\n",
       "  <tbody>\n",
       "  </tbody>\n",
       "</table>\n",
       "</div>"
      ],
      "text/plain": [
       "Empty DataFrame\n",
       "Columns: [Delivery Time, Sorting Time]\n",
       "Index: []"
      ]
     },
     "execution_count": 7,
     "metadata": {},
     "output_type": "execute_result"
    }
   ],
   "source": [
    "data[data.duplicated()]#No duplicates"
   ]
  },
  {
   "cell_type": "code",
   "execution_count": 8,
   "id": "e6321c40",
   "metadata": {},
   "outputs": [
    {
     "data": {
      "text/plain": [
       "Delivery Time    0\n",
       "Sorting Time     0\n",
       "dtype: int64"
      ]
     },
     "execution_count": 8,
     "metadata": {},
     "output_type": "execute_result"
    }
   ],
   "source": [
    "data.isna().sum()#No missing values"
   ]
  },
  {
   "cell_type": "code",
   "execution_count": 9,
   "id": "37dda234",
   "metadata": {},
   "outputs": [
    {
     "name": "stdout",
     "output_type": "stream",
     "text": [
      "<class 'pandas.core.frame.DataFrame'>\n",
      "RangeIndex: 21 entries, 0 to 20\n",
      "Data columns (total 2 columns):\n",
      " #   Column         Non-Null Count  Dtype  \n",
      "---  ------         --------------  -----  \n",
      " 0   Delivery Time  21 non-null     float64\n",
      " 1   Sorting Time   21 non-null     int64  \n",
      "dtypes: float64(1), int64(1)\n",
      "memory usage: 464.0 bytes\n"
     ]
    }
   ],
   "source": [
    "data.info()"
   ]
  },
  {
   "cell_type": "code",
   "execution_count": 10,
   "id": "434ac74c",
   "metadata": {},
   "outputs": [
    {
     "data": {
      "text/plain": [
       "<AxesSubplot:xlabel='Delivery Time', ylabel='Count'>"
      ]
     },
     "execution_count": 10,
     "metadata": {},
     "output_type": "execute_result"
    },
    {
     "data": {
      "image/png": "[encoded data removed]",
      "text/plain": [
       "<Figure size 432x288 with 1 Axes>"
      ]
     },
     "metadata": {
      "needs_background": "light"
     },
     "output_type": "display_data"
    }
   ],
   "source": [
    "sns.histplot(data['Delivery Time'],kde=True,alpha=0.1)"
   ]
  },
  {
   "cell_type": "code",
   "execution_count": 11,
   "id": "b8a55b10",
   "metadata": {},
   "outputs": [
    {
     "data": {
      "text/plain": [
       "0.3523900822831107"
      ]
     },
     "execution_count": 11,
     "metadata": {},
     "output_type": "execute_result"
    }
   ],
   "source": [
    "data['Delivery Time'].skew()# for practical reasons we can consider this as close to normal distribution\n"
   ]
  },
  {
   "cell_type": "code",
   "execution_count": 12,
   "id": "d14246ba",
   "metadata": {},
   "outputs": [
    {
     "data": {
      "text/plain": [
       "<AxesSubplot:xlabel='Sorting Time', ylabel='Count'>"
      ]
     },
     "execution_count": 12,
     "metadata": {},
     "output_type": "execute_result"
    },
    {
     "data": {
      "image/png": "[encoded data removed]",
      "text/plain": [
       "<Figure size 432x288 with 1 Axes>"
      ]
     },
     "metadata": {
      "needs_background": "light"
     },
     "output_type": "display_data"
    }
   ],
   "source": [
    "sns.histplot(data['Sorting Time'],kde=True,alpha=0.1)"
   ]
  },
  {
   "cell_type": "code",
   "execution_count": 13,
   "id": "2cfe24a4",
   "metadata": {},
   "outputs": [
    {
     "data": {
      "text/plain": [
       "0.047115474210530174"
      ]
     },
     "execution_count": 13,
     "metadata": {},
     "output_type": "execute_result"
    }
   ],
   "source": [
    "data['Sorting Time'].skew() # for practical reasons we can consider this as close to normal distribution"
   ]
  },
  {
   "cell_type": "code",
   "execution_count": 14,
   "id": "dff26c61",
   "metadata": {},
   "outputs": [],
   "source": [
    "from sklearn.linear_model import LinearRegression"
   ]
  },
  {
   "cell_type": "code",
   "execution_count": 15,
   "id": "28409c75",
   "metadata": {},
   "outputs": [],
   "source": [
    "from sklearn.model_selection import train_test_split"
   ]
  },
  {
   "cell_type": "code",
   "execution_count": 16,
   "id": "7bbd2dc8",
   "metadata": {},
   "outputs": [],
   "source": [
    "y=data['Delivery Time'].values.reshape(-1,1)#Target\n",
    "X=data[\"Sorting Time\"].values.reshape(-1,1)#Feature"
   ]
  },
  {
   "cell_type": "code",
   "execution_count": 17,
   "id": "0301edc1",
   "metadata": {},
   "outputs": [
    {
     "data": {
      "text/plain": [
       "array([[21.  ],\n",
       "       [13.5 ],\n",
       "       [19.75],\n",
       "       [24.  ],\n",
       "       [29.  ],\n",
       "       [15.35],\n",
       "       [19.  ],\n",
       "       [ 9.5 ],\n",
       "       [17.9 ],\n",
       "       [18.75],\n",
       "       [19.83],\n",
       "       [10.75],\n",
       "       [16.68],\n",
       "       [11.5 ],\n",
       "       [12.03],\n",
       "       [14.88],\n",
       "       [13.75],\n",
       "       [18.11],\n",
       "       [ 8.  ],\n",
       "       [17.83],\n",
       "       [21.5 ]])"
      ]
     },
     "execution_count": 17,
     "metadata": {},
     "output_type": "execute_result"
    }
   ],
   "source": [
    "y"
   ]
  },
  {
   "cell_type": "code",
   "execution_count": 18,
   "id": "b4d58522",
   "metadata": {},
   "outputs": [],
   "source": [
    "X_train,X_test,y_train,y_test=train_test_split(X,y,test_size=0.2,random_state=42)"
   ]
  },
  {
   "cell_type": "code",
   "execution_count": 19,
   "id": "be451bae",
   "metadata": {},
   "outputs": [],
   "source": [
    "model=LinearRegression()"
   ]
  },
  {
   "cell_type": "code",
   "execution_count": 20,
   "id": "6cdb7033",
   "metadata": {},
   "outputs": [
    {
     "data": {
      "text/html": [
       "<style>#sk-container-id-1 {color: black;background-color: white;}#sk-container-id-1 pre{padding: 0;}#sk-container-id-1 div.sk-toggleable {background-color: white;}#sk-container-id-1 label.sk-toggleable__label {cursor: pointer;display: block;width: 100%;margin-bottom: 0;padding: 0.3em;box-sizing: border-box;text-align: center;}#sk-container-id-1 label.sk-toggleable__label-arrow:before {content: \"▸\";float: left;margin-right: 0.25em;color: #696969;}#sk-container-id-1 label.sk-toggleable__label-arrow:hover:before {color: black;}#sk-container-id-1 div.sk-estimator:hover label.sk-toggleable__label-arrow:before {color: black;}#sk-container-id-1 div.sk-toggleable__content {max-height: 0;max-width: 0;overflow: hidden;text-align: left;background-color: #f0f8ff;}#sk-container-id-1 div.sk-toggleable__content pre {margin: 0.2em;color: black;border-radius: 0.25em;background-color: #f0f8ff;}#sk-container-id-1 input.sk-toggleable__control:checked~div.sk-toggleable__content {max-height: 200px;max-width: 100%;overflow: auto;}#sk-container-id-1 input.sk-toggleable__control:checked~label.sk-toggleable__label-arrow:before {content: \"▾\";}#sk-container-id-1 div.sk-estimator input.sk-toggleable__control:checked~label.sk-toggleable__label {background-color: #d4ebff;}#sk-container-id-1 div.sk-label input.sk-toggleable__control:checked~label.sk-toggleable__label {background-color: #d4ebff;}#sk-container-id-1 input.sk-hidden--visually {border: 0;clip: rect(1px 1px 1px 1px);clip: rect(1px, 1px, 1px, 1px);height: 1px;margin: -1px;overflow: hidden;padding: 0;position: absolute;width: 1px;}#sk-container-id-1 div.sk-estimator {font-family: monospace;background-color: #f0f8ff;border: 1px dotted black;border-radius: 0.25em;box-sizing: border-box;margin-bottom: 0.5em;}#sk-container-id-1 div.sk-estimator:hover {background-color: #d4ebff;}#sk-container-id-1 div.sk-parallel-item::after {content: \"\";width: 100%;border-bottom: 1px solid gray;flex-grow: 1;}#sk-container-id-1 div.sk-label:hover label.sk-toggleable__label {background-color: #d4ebff;}#sk-container-id-1 div.sk-serial::before {content: \"\";position: absolute;border-left: 1px solid gray;box-sizing: border-box;top: 0;bottom: 0;left: 50%;z-index: 0;}#sk-container-id-1 div.sk-serial {display: flex;flex-direction: column;align-items: center;background-color: white;padding-right: 0.2em;padding-left: 0.2em;position: relative;}#sk-container-id-1 div.sk-item {position: relative;z-index: 1;}#sk-container-id-1 div.sk-parallel {display: flex;align-items: stretch;justify-content: center;background-color: white;position: relative;}#sk-container-id-1 div.sk-item::before, #sk-container-id-1 div.sk-parallel-item::before {content: \"\";position: absolute;border-left: 1px solid gray;box-sizing: border-box;top: 0;bottom: 0;left: 50%;z-index: -1;}#sk-container-id-1 div.sk-parallel-item {display: flex;flex-direction: column;z-index: 1;position: relative;background-color: white;}#sk-container-id-1 div.sk-parallel-item:first-child::after {align-self: flex-end;width: 50%;}#sk-container-id-1 div.sk-parallel-item:last-child::after {align-self: flex-start;width: 50%;}#sk-container-id-1 div.sk-parallel-item:only-child::after {width: 0;}#sk-container-id-1 div.sk-dashed-wrapped {border: 1px dashed gray;margin: 0 0.4em 0.5em 0.4em;box-sizing: border-box;padding-bottom: 0.4em;background-color: white;}#sk-container-id-1 div.sk-label label {font-family: monospace;font-weight: bold;display: inline-block;line-height: 1.2em;}#sk-container-id-1 div.sk-label-container {text-align: center;}#sk-container-id-1 div.sk-container {/* jupyter's `normalize.less` sets `[hidden] { display: none; }` but bootstrap.min.css set `[hidden] { display: none !important; }` so we also need the `!important` here to be able to override the default hidden behavior on the sphinx rendered scikit-learn.org. See: https://github.com/scikit-learn/scikit-learn/issues/21755 */display: inline-block !important;position: relative;}#sk-container-id-1 div.sk-text-repr-fallback {display: none;}</style><div id=\"sk-container-id-1\" class=\"sk-top-container\"><div class=\"sk-text-repr-fallback\"><pre>LinearRegression()</pre><b>In a Jupyter environment, please rerun this cell to show the HTML representation or trust the notebook. <br />On GitHub, the HTML representation is unable to render, please try loading this page with nbviewer.org.</b></div><div class=\"sk-container\" hidden><div class=\"sk-item\"><div class=\"sk-estimator sk-toggleable\"><input class=\"sk-toggleable__control sk-hidden--visually\" id=\"sk-estimator-id-1\" type=\"checkbox\" checked><label for=\"sk-estimator-id-1\" class=\"sk-toggleable__label sk-toggleable__label-arrow\">LinearRegression</label><div class=\"sk-toggleable__content\"><pre>LinearRegression()</pre></div></div></div></div></div>"
      ],
      "text/plain": [
       "LinearRegression()"
      ]
     },
     "execution_count": 20,
     "metadata": {},
     "output_type": "execute_result"
    }
   ],
   "source": [
    "model.fit(X_train,y_train)"
   ]
  },
  {
   "cell_type": "code",
   "execution_count": 21,
   "id": "2a0d6128",
   "metadata": {
    "scrolled": true
   },
   "outputs": [],
   "source": [
    "y_pred=model.predict(X)"
   ]
  },
  {
   "cell_type": "code",
   "execution_count": 22,
   "id": "1cf1c550",
   "metadata": {},
   "outputs": [
    {
     "data": {
      "text/plain": [
       "array([[21.  ],\n",
       "       [18.11],\n",
       "       [14.88],\n",
       "       [13.5 ],\n",
       "       [17.9 ]])"
      ]
     },
     "execution_count": 22,
     "metadata": {},
     "output_type": "execute_result"
    }
   ],
   "source": [
    "y_test"
   ]
  },
  {
   "cell_type": "code",
   "execution_count": 23,
   "id": "f7c171d8",
   "metadata": {},
   "outputs": [],
   "source": [
    "from sklearn.metrics import mean_absolute_error,mean_squared_error,r2_score"
   ]
  },
  {
   "cell_type": "code",
   "execution_count": 24,
   "id": "cde42ece",
   "metadata": {},
   "outputs": [
    {
     "data": {
      "text/plain": [
       "2.3064638757822182"
      ]
     },
     "execution_count": 24,
     "metadata": {},
     "output_type": "execute_result"
    }
   ],
   "source": [
    "mean_absolute_error(y_true=y,y_pred=y_pred)"
   ]
  },
  {
   "cell_type": "code",
   "execution_count": 25,
   "id": "faf13abf",
   "metadata": {},
   "outputs": [
    {
     "data": {
      "text/plain": [
       "8.838190117339568"
      ]
     },
     "execution_count": 25,
     "metadata": {},
     "output_type": "execute_result"
    }
   ],
   "source": [
    "mean_squared_error(y,y_pred)#increase with the outliers"
   ]
  },
  {
   "cell_type": "code",
   "execution_count": 26,
   "id": "70e11a89",
   "metadata": {},
   "outputs": [
    {
     "data": {
      "text/plain": [
       "0.6396724173614026"
      ]
     },
     "execution_count": 26,
     "metadata": {},
     "output_type": "execute_result"
    }
   ],
   "source": [
    "r2_score(y_true=y,y_pred=y_pred)"
   ]
  },
  {
   "cell_type": "code",
   "execution_count": 27,
   "id": "c42a4308",
   "metadata": {},
   "outputs": [
    {
     "data": {
      "image/png": "[encoded data removed]",
      "text/plain": [
       "<Figure size 432x288 with 1 Axes>"
      ]
     },
     "metadata": {
      "needs_background": "light"
     },
     "output_type": "display_data"
    }
   ],
   "source": [
    "plt.scatter(X, y, color='b', label='Actual Data')\n",
    "plt.plot(X, y_pred, color='r', label='Regression Line')\n",
    "plt.xlabel('X (Independent Variable)')\n",
    "plt.ylabel('y (Dependent Variable)')\n",
    "plt.legend()\n",
    "plt.show()"
   ]
  },
  {
   "cell_type": "code",
   "execution_count": 28,
   "id": "719beee6",
   "metadata": {},
   "outputs": [],
   "source": [
    "#Poor r2 score, lets try to increase the r2 score by transforming the values, as the skewness is very low i dont thing \n",
    "#log transformation or square transformation will be necessary, lets just go with Power transformation"
   ]
  },
  {
   "cell_type": "code",
   "execution_count": 29,
   "id": "28df00ea",
   "metadata": {},
   "outputs": [],
   "source": [
    "from sklearn.preprocessing import PowerTransformer\n",
    "pt=PowerTransformer()\n",
    "X_train_yj=pt.fit_transform(X_train)\n",
    "X_test_yj=pt.transform(X_test)\n",
    "y_train_yj=pt.fit_transform(y_train)\n",
    "y_test_yj=pt.transform(y_test)"
   ]
  },
  {
   "cell_type": "code",
   "execution_count": 30,
   "id": "82ce8893",
   "metadata": {},
   "outputs": [
    {
     "data": {
      "text/plain": [
       "0.4242577333409308"
      ]
     },
     "execution_count": 30,
     "metadata": {},
     "output_type": "execute_result"
    }
   ],
   "source": [
    "lr=LinearRegression()\n",
    "\n",
    "from sklearn.model_selection import cross_val_score\n",
    "np.mean(cross_val_score(estimator=lr,X=X_train_yj,y=y_train_yj))"
   ]
  },
  {
   "cell_type": "code",
   "execution_count": 31,
   "id": "f245a0ed",
   "metadata": {},
   "outputs": [
    {
     "data": {
      "text/plain": [
       "0.6822714748417231"
      ]
     },
     "execution_count": 31,
     "metadata": {},
     "output_type": "execute_result"
    }
   ],
   "source": [
    "lr2=LinearRegression()\n",
    "lr2.fit(X,y)\n",
    "lr2.score(X,y)\n",
    "#As the data is too small we cant take the risk of splitting the data for validation"
   ]
  },
  {
   "cell_type": "code",
   "execution_count": 32,
   "id": "3dae04f6",
   "metadata": {},
   "outputs": [
    {
     "data": {
      "text/plain": [
       "(array([[1.6490199]]), array([6.58273397]))"
      ]
     },
     "execution_count": 32,
     "metadata": {},
     "output_type": "execute_result"
    }
   ],
   "source": [
    "lr2.coef_,lr2.intercept_"
   ]
  },
  {
   "cell_type": "markdown",
   "id": "d0db4181",
   "metadata": {},
   "source": [
    "## Using Power Transformation on the whole data"
   ]
  },
  {
   "cell_type": "code",
   "execution_count": 33,
   "id": "a8156f30",
   "metadata": {},
   "outputs": [],
   "source": [
    "\n",
    "from sklearn.preprocessing import PowerTransformer\n",
    "pt2=PowerTransformer()\n",
    "X_scale=pt2.fit_transform(X)\n",
    "y_scale=pt2.transform(y)"
   ]
  },
  {
   "cell_type": "code",
   "execution_count": null,
   "id": "7c97770a",
   "metadata": {},
   "outputs": [],
   "source": []
  },
  {
   "cell_type": "code",
   "execution_count": null,
   "id": "3d2f0d4c",
   "metadata": {},
   "outputs": [],
   "source": []
  },
  {
   "cell_type": "markdown",
   "id": "5109c54f",
   "metadata": {},
   "source": [
    "## Implementing Batch Gradient Descent"
   ]
  },
  {
   "cell_type": "code",
   "execution_count": 170,
   "id": "86e3b406",
   "metadata": {},
   "outputs": [],
   "source": [
    "#Lets Try Gradient Descent and check if the results match that of OLS given by Sklearn\n",
    "#initialize parameters m,b\n",
    "#initialize epochs and learning rate\n",
    "#Loss function=MSE so (y-yhat)^2/N or-> (y-(mx+b))^2/N\n",
    "#we need to find dl/dm and dl/db for the slope of both the parameters and update the values of parameters with respect to \n",
    "#the epochs such that the gradient comes closer to 0 i.e m=m-learning_rate*J(theta) Jtheta is the function of loss\n",
    "\n",
    "#For score lets implement R2 score which is LR.score()\n",
    "#R2 score=1-SSR/SST\n",
    "#SSR=(y-yhat)^2/N\n",
    "class GDRegressor:\n",
    "    \n",
    "    def __init__(self,epochs,learning_rate):\n",
    "        self.epochs=epochs\n",
    "        self.lr=learning_rate\n",
    "        self.m=np.random.randint(-100,100)\n",
    "        self.b=np.random.randint(-100,100)\n",
    "        global epoch\n",
    "        epoch=self.epochs\n",
    "    \n",
    "    def fit(self,X,y):\n",
    "        \n",
    "        for i in range(self.epochs):\n",
    "            \n",
    "            loss_slope_m = -2 * np.sum(X * (y - (self.m * X + self.b)))#dL/dm\n",
    "            loss_slope_b = -2 * np.sum(y - (self.m * X + self.b))#dL/db\n",
    "            \n",
    "            self.m=self.m-(self.lr*loss_slope_m)\n",
    "            self.b=self.b-(self.lr*loss_slope_b)\n",
    "            \n",
    "            \n",
    "            \n",
    "            #Appending all the values to plot inside a list\n",
    "            y_pred_list.append(self.predict(X))\n",
    "            m_list.append(self.m)\n",
    "            b_list.append(self.b)\n",
    "            cost_list.append(self.cost(X,y))\n",
    "            \n",
    "            \n",
    "            \n",
    "        self.coef_=self.m\n",
    "        self.intercept_=self.b\n",
    "\n",
    "\n",
    "    \n",
    "    def score(self,X,y):\n",
    "        yhat=(self.m*X)+self.b\n",
    "        SSR=np.sum((y-yhat)**2)\n",
    "        SST=np.sum((y-np.mean(y))**2)\n",
    "        return (1-(SSR/SST))\n",
    "    \n",
    "    def predict(self,X):\n",
    "        return (self.m*X)+self.b \n",
    "    \n",
    "    def cost(self,X,y):\n",
    "        pred=self.predict(X)\n",
    "        error=y-pred\n",
    "        return np.mean(error**2)#MSE\n",
    "        \n",
    "        \n",
    "\n",
    "        \n",
    "       \n",
    "       \n",
    "            \n",
    "        \n",
    "        "
   ]
  },
  {
   "cell_type": "code",
   "execution_count": 223,
   "id": "1a87b033",
   "metadata": {},
   "outputs": [],
   "source": [
    "y_pred_list=[]\n",
    "m_list=[]\n",
    "b_list=[]\n",
    "cost_list=[]"
   ]
  },
  {
   "cell_type": "code",
   "execution_count": 247,
   "id": "e56eb138",
   "metadata": {},
   "outputs": [],
   "source": [
    "gd=GDRegressor(epochs=6,learning_rate=0.1)\n",
    "gd.fit(X_scale,y_scale)"
   ]
  },
  {
   "cell_type": "code",
   "execution_count": 248,
   "id": "ba5e5c12",
   "metadata": {},
   "outputs": [
    {
     "data": {
      "text/plain": [
       "6"
      ]
     },
     "execution_count": 248,
     "metadata": {},
     "output_type": "execute_result"
    }
   ],
   "source": [
    "epoch"
   ]
  },
  {
   "cell_type": "code",
   "execution_count": 249,
   "id": "6cc184a6",
   "metadata": {},
   "outputs": [
    {
     "data": {
      "text/plain": [
       "(-20668.70103166028, -84371.04875834675)"
      ]
     },
     "execution_count": 249,
     "metadata": {},
     "output_type": "execute_result"
    }
   ],
   "source": [
    "gd.coef_,gd.intercept_"
   ]
  },
  {
   "cell_type": "code",
   "execution_count": 250,
   "id": "52d57e8d",
   "metadata": {},
   "outputs": [
    {
     "data": {
      "text/plain": [
       "-3420767966.857184"
      ]
     },
     "execution_count": 250,
     "metadata": {},
     "output_type": "execute_result"
    }
   ],
   "source": [
    "gd.score(X_scale,y_scale)"
   ]
  },
  {
   "cell_type": "code",
   "execution_count": 251,
   "id": "8b02cd74",
   "metadata": {},
   "outputs": [
    {
     "data": {
      "text/plain": [
       "(array([[1.25039238]]), array([3.57999648]))"
      ]
     },
     "execution_count": 251,
     "metadata": {},
     "output_type": "execute_result"
    }
   ],
   "source": [
    "lr3=LinearRegression()\n",
    "lr3.fit(X_scale,y_scale)\n",
    "lr3.coef_,lr3.intercept_"
   ]
  },
  {
   "cell_type": "code",
   "execution_count": 252,
   "id": "b2c18246",
   "metadata": {},
   "outputs": [
    {
     "data": {
      "text/plain": [
       "0.7087298981631149"
      ]
     },
     "execution_count": 252,
     "metadata": {},
     "output_type": "execute_result"
    }
   ],
   "source": [
    "lr3.score(X_scale,y_scale)"
   ]
  },
  {
   "cell_type": "code",
   "execution_count": 241,
   "id": "54fd77e3",
   "metadata": {},
   "outputs": [],
   "source": [
    "#Close enough so this confirms how gradient descent works and how OLS works, they provide the same result but both of them \n",
    "#Have different concepts"
   ]
  },
  {
   "cell_type": "code",
   "execution_count": null,
   "id": "4f4a4d05",
   "metadata": {},
   "outputs": [],
   "source": [
    "import matplotlib.pyplot as plt\n",
    "from matplotlib.animation import FuncAnimation\n",
    "import matplotlib.gridspec as gridspec\n",
    "\n",
    "# Assuming X_scale, y_pred_list, m_list, b_list, and cost_list are available\n",
    "# Define other necessary variables and functions\n",
    "\n",
    "label_size = 12\n",
    "fig = plt.figure(figsize=(15,8))\n",
    "\n",
    "# Define the grid layout using gridspec\n",
    "gs = gridspec.GridSpec(2, 6, width_ratios=[1,1,1,1,1,1], height_ratios=[2,1])\n",
    "\n",
    "# Create subplots using the defined layout\n",
    "ax1 = plt.subplot(gs[0,:5])\n",
    "ax2 = plt.subplot(gs[1,:2])\n",
    "ax3 = plt.subplot(gs[1,2:4])\n",
    "ax4 = plt.subplot(gs[1,4:6])\n",
    "\n",
    "\n",
    "def update(epoch):\n",
    "    # Plot X_scale and y_pred for the current epoch in ax1\n",
    "    ax1.clear()  # Clear the previous frame\n",
    "    ax1.plot(X_scale, y_pred_list[epoch], color='red', label=f'Epoch: {epoch}')\n",
    "    ax1.scatter(X_scale, y_scale, color='b', marker='x', s=50)\n",
    "    ax1.set_title(\"Batch Gradient Descent\", fontsize=25)\n",
    "    ax1.set_xlabel(\"x\", fontsize=25, labelpad=10)\n",
    "    ax1.set_ylabel(\"y\", fontsize=25, labelpad=10)\n",
    "    ax1.tick_params(axis='both', which='major', labelsize=label_size)\n",
    "    ax1.legend(loc='upper right', fontsize=15)\n",
    "    \n",
    "    # Plot m_list for the current epoch in ax2\n",
    "    ax2.clear()\n",
    "    ax2.plot(m_list[0:epoch], color='Green', linestyle='dashed', alpha=0.6)\n",
    "    ax2.set_title(f'Weights= {m_list[epoch]}', fontsize=15)\n",
    "    ax2.tick_params(axis='both', which='major', labelsize=label_size)\n",
    "    \n",
    "    # Plot b_list for the current epoch in ax3\n",
    "    ax3.clear()\n",
    "    ax3.plot(b_list[0:epoch], color='blue', linestyle='dashed', alpha=0.6)\n",
    "    ax3.set_title(f'Intercept/Bias= {b_list[epoch]}', fontsize=15) \n",
    "    ax3.tick_params(axis='both', which='major', labelsize=label_size)\n",
    "\n",
    "    # Plot cost_list for the current epoch in ax4\n",
    "    ax4.clear()\n",
    "    ax4.plot(cost_list[0:epoch], color='orange', linestyle='dashed', alpha=0.6)\n",
    "    ax4.set_title(f'Cost Function(MSE)= {cost_list[epoch]}', fontsize=15)\n",
    "    ax4.tick_params(axis='both', which='major', labelsize=label_size)\n",
    "    \n",
    "    plt.tight_layout()\n",
    "    \n",
    "# Number of epochsepochal \n",
    "num_epochs = len(y_pred_list)\n",
    "\n",
    "# Create the animation\n",
    "animation = FuncAnimation(fig, update, frames=num_epochs, repeat=False)\n",
    "\n",
    "animation_writer = 'pillow'  \n",
    "\n",
    "# Save the animation as a GIF\n",
    "animation.save('linear_fit_animation3.gif', writer=animation_writer,fps=60)\n"
   ]
  },
  {
   "cell_type": "code",
   "execution_count": null,
   "id": "88310852",
   "metadata": {},
   "outputs": [],
   "source": []
  },
  {
   "cell_type": "code",
   "execution_count": null,
   "id": "7c02b394",
   "metadata": {},
   "outputs": [],
   "source": []
  },
  {
   "cell_type": "code",
   "execution_count": null,
   "id": "d22af16e",
   "metadata": {},
   "outputs": [],
   "source": []
  },
  {
   "cell_type": "code",
   "execution_count": null,
   "id": "ca71351f",
   "metadata": {},
   "outputs": [],
   "source": []
  },
  {
   "cell_type": "code",
   "execution_count": 156,
   "id": "79e1d740",
   "metadata": {},
   "outputs": [],
   "source": []
  },
  {
   "cell_type": "code",
   "execution_count": null,
   "id": "8ea46e07",
   "metadata": {},
   "outputs": [],
   "source": []
  },
  {
   "cell_type": "code",
   "execution_count": 144,
   "id": "35240c5b",
   "metadata": {
    "scrolled": true
   },
   "outputs": [],
   "source": []
  },
  {
   "cell_type": "code",
   "execution_count": 209,
   "id": "7310839d",
   "metadata": {},
   "outputs": [],
   "source": []
  },
  {
   "cell_type": "code",
   "execution_count": 210,
   "id": "477c186e",
   "metadata": {},
   "outputs": [],
   "source": [
    "# y_pred_list"
   ]
  },
  {
   "cell_type": "code",
   "execution_count": 110,
   "id": "03494887",
   "metadata": {},
   "outputs": [
    {
     "data": {
      "text/plain": [
       "array([ 1, 11, 21, 31, 41, 51, 61, 71, 81, 91])"
      ]
     },
     "execution_count": 110,
     "metadata": {},
     "output_type": "execute_result"
    }
   ],
   "source": [
    "np.arange(1,100,10)"
   ]
  },
  {
   "cell_type": "code",
   "execution_count": null,
   "id": "d8126312",
   "metadata": {},
   "outputs": [],
   "source": [
    "m_list"
   ]
  },
  {
   "cell_type": "code",
   "execution_count": null,
   "id": "4505110b",
   "metadata": {},
   "outputs": [],
   "source": [
    "(np.arange(1,z+1))"
   ]
  },
  {
   "cell_type": "code",
   "execution_count": null,
   "id": "9f5bb757",
   "metadata": {},
   "outputs": [],
   "source": [
    "X_scale"
   ]
  },
  {
   "cell_type": "code",
   "execution_count": null,
   "id": "a574fe27",
   "metadata": {},
   "outputs": [],
   "source": [
    "y_pred_list[1]"
   ]
  },
  {
   "cell_type": "code",
   "execution_count": null,
   "id": "aa4ecf1e",
   "metadata": {},
   "outputs": [],
   "source": [
    "plt.scatter(X_scale,y_scale)\n",
    "plt.plot(X_scale.flatten(),y_pred_list[2000])"
   ]
  },
  {
   "cell_type": "code",
   "execution_count": null,
   "id": "dd527a20",
   "metadata": {},
   "outputs": [],
   "source": [
    "y_pred_list[1]"
   ]
  },
  {
   "cell_type": "code",
   "execution_count": null,
   "id": "22195140",
   "metadata": {},
   "outputs": [],
   "source": [
    "y_pred_list[23]"
   ]
  },
  {
   "cell_type": "code",
   "execution_count": null,
   "id": "7a1bc2e4",
   "metadata": {},
   "outputs": [],
   "source": [
    "plt.plot(m_list)"
   ]
  },
  {
   "cell_type": "code",
   "execution_count": null,
   "id": "c10336cc",
   "metadata": {},
   "outputs": [],
   "source": []
  },
  {
   "cell_type": "code",
   "execution_count": 160,
   "id": "7349a1b9",
   "metadata": {},
   "outputs": [
    {
     "name": "stderr",
     "output_type": "stream",
     "text": [
      "MovieWriter imagemagick unavailable; using Pillow instead.\n"
     ]
    },
    {
     "data": {
      "image/png": "[encoded data removed]",
      "text/plain": [
       "<Figure size 720x576 with 1 Axes>"
      ]
     },
     "metadata": {},
     "output_type": "display_data"
    }
   ],
   "source": [
    "\n",
    "\n",
    "\n",
    "# label_size = 12\n",
    "# fig, ax = plt.subplots(figsize=(10, 8))\n",
    "\n",
    "# def update(epoch):\n",
    "#     ax.clear()  # Clear the previous frame\n",
    "    \n",
    "#     # Plot X_scale and y_pred for the current epoch\n",
    "#     ax.plot(X_scale, y_pred_list[epoch], color='red', label=f'Epoch: {epoch}')\n",
    "#     ax.scatter(X_scale, y_scale, color='b', marker='x', s=50)\n",
    "    \n",
    "#     ax.set_title(\"Linear fit\", fontsize=25)\n",
    "#     ax.set_xlabel(\"x\", fontsize=25, labelpad=10)\n",
    "#     ax.set_ylabel(\"y\", fontsize=25, labelpad=10)\n",
    "#     ax.tick_params(axis='both', which='major', labelsize=label_size)\n",
    "#     ax.legend(loc='upper right', fontsize=15)\n",
    "\n",
    "# # Number of epochs\n",
    "# num_epochs = len(y_pred_list)\n",
    "\n",
    "# # Create the animation\n",
    "# animation = FuncAnimation(fig, update, frames=num_epochs, repeat=False)\n",
    "\n",
    "\n",
    "# animation_writer = 'pillow'  \n",
    "# animation.save('linear_fit_animation.gif', writer=animation_writer, fps=60)\n"
   ]
  },
  {
   "cell_type": "code",
   "execution_count": 201,
   "id": "193902f3",
   "metadata": {},
   "outputs": [
    {
     "name": "stdout",
     "output_type": "stream",
     "text": [
      "2811.03249613687\n",
      "2811.03249613687\n"
     ]
    }
   ],
   "source": []
  },
  {
   "cell_type": "code",
   "execution_count": 199,
   "id": "9bc6b651",
   "metadata": {},
   "outputs": [
    {
     "data": {
      "text/plain": [
       "3062.8567423546365"
      ]
     },
     "execution_count": 199,
     "metadata": {},
     "output_type": "execute_result"
    }
   ],
   "source": [
    "cost_list[0:2]"
   ]
  },
  {
   "cell_type": "code",
   "execution_count": 203,
   "id": "16277180",
   "metadata": {},
   "outputs": [
    {
     "data": {
      "text/plain": [
       "[-28.687483520148707,\n",
       " -27.430092732451165,\n",
       " -26.225512357836923,\n",
       " -25.071524358956477,\n",
       " -23.966003856029012,\n",
       " -22.906915214224497,\n",
       " -21.892308295375773,\n",
       " -20.920314867118698,\n",
       " -19.989145162848416,\n",
       " -19.09708458615749]"
      ]
     },
     "execution_count": 203,
     "metadata": {},
     "output_type": "execute_result"
    }
   ],
   "source": [
    "m_list"
   ]
  },
  {
   "cell_type": "code",
   "execution_count": 204,
   "id": "f6ae3da8",
   "metadata": {},
   "outputs": [
    {
     "data": {
      "text/plain": [
       "[-42.95964014766468,\n",
       " -41.00497540912744,\n",
       " -39.13240658960876,\n",
       " -37.338485660509875,\n",
       " -35.61990941043314,\n",
       " -33.97351336285963,\n",
       " -32.3962659492842,\n",
       " -30.88526292707894,\n",
       " -29.437722031806302,\n",
       " -28.050977854135116]"
      ]
     },
     "execution_count": 204,
     "metadata": {},
     "output_type": "execute_result"
    }
   ],
   "source": [
    "b_list"
   ]
  },
  {
   "cell_type": "code",
   "execution_count": 205,
   "id": "385c5b2d",
   "metadata": {},
   "outputs": [
    {
     "data": {
      "text/plain": [
       "[3062.8567423546365,\n",
       " 2811.03249613687,\n",
       " 2579.9172686310694,\n",
       " 2367.8080329744357,\n",
       " 2173.141812421261,\n",
       " 1994.4841631814963,\n",
       " 1830.5186043846136,\n",
       " 1680.0369172809508,\n",
       " 1541.9302421979448,\n",
       " 1415.1809076470652]"
      ]
     },
     "execution_count": 205,
     "metadata": {},
     "output_type": "execute_result"
    }
   ],
   "source": [
    "cost_list"
   ]
  },
  {
   "cell_type": "code",
   "execution_count": null,
   "id": "c2e3d7be",
   "metadata": {},
   "outputs": [],
   "source": []
  }
 ],
 "metadata": {
  "kernelspec": {
   "display_name": "Python 3 (ipykernel)",
   "language": "python",
   "name": "python3"
  },
  "language_info": {
   "codemirror_mode": {
    "name": "ipython",
    "version": 3
   },
   "file_extension": ".py",
   "mimetype": "text/x-python",
   "name": "python",
   "nbconvert_exporter": "python",
   "pygments_lexer": "ipython3",
   "version": "3.9.5"
  }
 },
 "nbformat": 4,
 "nbformat_minor": 5
}
