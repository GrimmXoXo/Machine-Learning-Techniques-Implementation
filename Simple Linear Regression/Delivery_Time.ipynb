{
  "cells": [
    {
      "cell_type": "code",
      "execution_count": 1,
      "id": "4efe4533",
      "metadata": {
        "id": "4efe4533"
      },
      "outputs": [],
      "source": [
        "import pandas as pd\n",
        "import numpy as np\n",
        "import matplotlib.pyplot as plt\n",
        "import seaborn as sns\n"
      ]
    },
    {
      "cell_type": "code",
      "execution_count": 2,
      "id": "7335c29c",
      "metadata": {
        "id": "7335c29c"
      },
      "outputs": [],
      "source": [
        "data=pd.read_csv('delivery_time.csv')"
      ]
    },
    {
      "cell_type": "code",
      "execution_count": 3,
      "id": "fd269eb4",
      "metadata": {
        "colab": {
          "base_uri": "https://localhost:8080/"
        },
        "id": "fd269eb4",
        "outputId": "659f271e-2a5e-40af-94c3-e8e7d8aa8a29"
      },
      "outputs": [
        {
          "output_type": "execute_result",
          "data": {
            "text/plain": [
              "(21, 2)"
            ]
          },
          "metadata": {},
          "execution_count": 3
        }
      ],
      "source": [
        "data.shape"
      ]
    },
    {
      "cell_type": "code",
      "execution_count": 4,
      "id": "36dfd1b9",
      "metadata": {
        "colab": {
          "base_uri": "https://localhost:8080/",
          "height": 708
        },
        "id": "36dfd1b9",
        "outputId": "6283ef64-0e78-4f6a-b9d5-319b138ba3f8"
      },
      "outputs": [
        {
          "output_type": "execute_result",
          "data": {
            "text/plain": [
              "    Delivery Time  Sorting Time\n",
              "0           21.00            10\n",
              "1           13.50             4\n",
              "2           19.75             6\n",
              "3           24.00             9\n",
              "4           29.00            10\n",
              "5           15.35             6\n",
              "6           19.00             7\n",
              "7            9.50             3\n",
              "8           17.90            10\n",
              "9           18.75             9\n",
              "10          19.83             8\n",
              "11          10.75             4\n",
              "12          16.68             7\n",
              "13          11.50             3\n",
              "14          12.03             3\n",
              "15          14.88             4\n",
              "16          13.75             6\n",
              "17          18.11             7\n",
              "18           8.00             2\n",
              "19          17.83             7\n",
              "20          21.50             5"
            ],
            "text/html": [
              "\n",
              "  <div id=\"df-81feef29-b515-4f18-934f-cfe30d2161f9\" class=\"colab-df-container\">\n",
              "    <div>\n",
              "<style scoped>\n",
              "    .dataframe tbody tr th:only-of-type {\n",
              "        vertical-align: middle;\n",
              "    }\n",
              "\n",
              "    .dataframe tbody tr th {\n",
              "        vertical-align: top;\n",
              "    }\n",
              "\n",
              "    .dataframe thead th {\n",
              "        text-align: right;\n",
              "    }\n",
              "</style>\n",
              "<table border=\"1\" class=\"dataframe\">\n",
              "  <thead>\n",
              "    <tr style=\"text-align: right;\">\n",
              "      <th></th>\n",
              "      <th>Delivery Time</th>\n",
              "      <th>Sorting Time</th>\n",
              "    </tr>\n",
              "  </thead>\n",
              "  <tbody>\n",
              "    <tr>\n",
              "      <th>0</th>\n",
              "      <td>21.00</td>\n",
              "      <td>10</td>\n",
              "    </tr>\n",
              "    <tr>\n",
              "      <th>1</th>\n",
              "      <td>13.50</td>\n",
              "      <td>4</td>\n",
              "    </tr>\n",
              "    <tr>\n",
              "      <th>2</th>\n",
              "      <td>19.75</td>\n",
              "      <td>6</td>\n",
              "    </tr>\n",
              "    <tr>\n",
              "      <th>3</th>\n",
              "      <td>24.00</td>\n",
              "      <td>9</td>\n",
              "    </tr>\n",
              "    <tr>\n",
              "      <th>4</th>\n",
              "      <td>29.00</td>\n",
              "      <td>10</td>\n",
              "    </tr>\n",
              "    <tr>\n",
              "      <th>5</th>\n",
              "      <td>15.35</td>\n",
              "      <td>6</td>\n",
              "    </tr>\n",
              "    <tr>\n",
              "      <th>6</th>\n",
              "      <td>19.00</td>\n",
              "      <td>7</td>\n",
              "    </tr>\n",
              "    <tr>\n",
              "      <th>7</th>\n",
              "      <td>9.50</td>\n",
              "      <td>3</td>\n",
              "    </tr>\n",
              "    <tr>\n",
              "      <th>8</th>\n",
              "      <td>17.90</td>\n",
              "      <td>10</td>\n",
              "    </tr>\n",
              "    <tr>\n",
              "      <th>9</th>\n",
              "      <td>18.75</td>\n",
              "      <td>9</td>\n",
              "    </tr>\n",
              "    <tr>\n",
              "      <th>10</th>\n",
              "      <td>19.83</td>\n",
              "      <td>8</td>\n",
              "    </tr>\n",
              "    <tr>\n",
              "      <th>11</th>\n",
              "      <td>10.75</td>\n",
              "      <td>4</td>\n",
              "    </tr>\n",
              "    <tr>\n",
              "      <th>12</th>\n",
              "      <td>16.68</td>\n",
              "      <td>7</td>\n",
              "    </tr>\n",
              "    <tr>\n",
              "      <th>13</th>\n",
              "      <td>11.50</td>\n",
              "      <td>3</td>\n",
              "    </tr>\n",
              "    <tr>\n",
              "      <th>14</th>\n",
              "      <td>12.03</td>\n",
              "      <td>3</td>\n",
              "    </tr>\n",
              "    <tr>\n",
              "      <th>15</th>\n",
              "      <td>14.88</td>\n",
              "      <td>4</td>\n",
              "    </tr>\n",
              "    <tr>\n",
              "      <th>16</th>\n",
              "      <td>13.75</td>\n",
              "      <td>6</td>\n",
              "    </tr>\n",
              "    <tr>\n",
              "      <th>17</th>\n",
              "      <td>18.11</td>\n",
              "      <td>7</td>\n",
              "    </tr>\n",
              "    <tr>\n",
              "      <th>18</th>\n",
              "      <td>8.00</td>\n",
              "      <td>2</td>\n",
              "    </tr>\n",
              "    <tr>\n",
              "      <th>19</th>\n",
              "      <td>17.83</td>\n",
              "      <td>7</td>\n",
              "    </tr>\n",
              "    <tr>\n",
              "      <th>20</th>\n",
              "      <td>21.50</td>\n",
              "      <td>5</td>\n",
              "    </tr>\n",
              "  </tbody>\n",
              "</table>\n",
              "</div>\n",
              "    <div class=\"colab-df-buttons\">\n",
              "\n",
              "  <div class=\"colab-df-container\">\n",
              "    <button class=\"colab-df-convert\" onclick=\"convertToInteractive('df-81feef29-b515-4f18-934f-cfe30d2161f9')\"\n",
              "            title=\"Convert this dataframe to an interactive table.\"\n",
              "            style=\"display:none;\">\n",
              "\n",
              "  <svg xmlns=\"http://www.w3.org/2000/svg\" height=\"24px\" viewBox=\"0 -960 960 960\">\n",
              "    <path d=\"M120-120v-720h720v720H120Zm60-500h600v-160H180v160Zm220 220h160v-160H400v160Zm0 220h160v-160H400v160ZM180-400h160v-160H180v160Zm440 0h160v-160H620v160ZM180-180h160v-160H180v160Zm440 0h160v-160H620v160Z\"/>\n",
              "  </svg>\n",
              "    </button>\n",
              "\n",
              "  <style>\n",
              "    .colab-df-container {\n",
              "      display:flex;\n",
              "      gap: 12px;\n",
              "    }\n",
              "\n",
              "    .colab-df-convert {\n",
              "      background-color: #E8F0FE;\n",
              "      border: none;\n",
              "      border-radius: 50%;\n",
              "      cursor: pointer;\n",
              "      display: none;\n",
              "      fill: #1967D2;\n",
              "      height: 32px;\n",
              "      padding: 0 0 0 0;\n",
              "      width: 32px;\n",
              "    }\n",
              "\n",
              "    .colab-df-convert:hover {\n",
              "      background-color: #E2EBFA;\n",
              "      box-shadow: 0px 1px 2px rgba(60, 64, 67, 0.3), 0px 1px 3px 1px rgba(60, 64, 67, 0.15);\n",
              "      fill: #174EA6;\n",
              "    }\n",
              "\n",
              "    .colab-df-buttons div {\n",
              "      margin-bottom: 4px;\n",
              "    }\n",
              "\n",
              "    [theme=dark] .colab-df-convert {\n",
              "      background-color: #3B4455;\n",
              "      fill: #D2E3FC;\n",
              "    }\n",
              "\n",
              "    [theme=dark] .colab-df-convert:hover {\n",
              "      background-color: #434B5C;\n",
              "      box-shadow: 0px 1px 3px 1px rgba(0, 0, 0, 0.15);\n",
              "      filter: drop-shadow(0px 1px 2px rgba(0, 0, 0, 0.3));\n",
              "      fill: #FFFFFF;\n",
              "    }\n",
              "  </style>\n",
              "\n",
              "    <script>\n",
              "      const buttonEl =\n",
              "        document.querySelector('#df-81feef29-b515-4f18-934f-cfe30d2161f9 button.colab-df-convert');\n",
              "      buttonEl.style.display =\n",
              "        google.colab.kernel.accessAllowed ? 'block' : 'none';\n",
              "\n",
              "      async function convertToInteractive(key) {\n",
              "        const element = document.querySelector('#df-81feef29-b515-4f18-934f-cfe30d2161f9');\n",
              "        const dataTable =\n",
              "          await google.colab.kernel.invokeFunction('convertToInteractive',\n",
              "                                                    [key], {});\n",
              "        if (!dataTable) return;\n",
              "\n",
              "        const docLinkHtml = 'Like what you see? Visit the ' +\n",
              "          '<a target=\"_blank\" href=https://colab.research.google.com/notebooks/data_table.ipynb>data table notebook</a>'\n",
              "          + ' to learn more about interactive tables.';\n",
              "        element.innerHTML = '';\n",
              "        dataTable['output_type'] = 'display_data';\n",
              "        await google.colab.output.renderOutput(dataTable, element);\n",
              "        const docLink = document.createElement('div');\n",
              "        docLink.innerHTML = docLinkHtml;\n",
              "        element.appendChild(docLink);\n",
              "      }\n",
              "    </script>\n",
              "  </div>\n",
              "\n",
              "\n",
              "<div id=\"df-773e0e9a-b6e9-4786-bf81-62b30a6bb59b\">\n",
              "  <button class=\"colab-df-quickchart\" onclick=\"quickchart('df-773e0e9a-b6e9-4786-bf81-62b30a6bb59b')\"\n",
              "            title=\"Suggest charts.\"\n",
              "            style=\"display:none;\">\n",
              "\n",
              "<svg xmlns=\"http://www.w3.org/2000/svg\" height=\"24px\"viewBox=\"0 0 24 24\"\n",
              "     width=\"24px\">\n",
              "    <g>\n",
              "        <path d=\"M19 3H5c-1.1 0-2 .9-2 2v14c0 1.1.9 2 2 2h14c1.1 0 2-.9 2-2V5c0-1.1-.9-2-2-2zM9 17H7v-7h2v7zm4 0h-2V7h2v10zm4 0h-2v-4h2v4z\"/>\n",
              "    </g>\n",
              "</svg>\n",
              "  </button>\n",
              "\n",
              "<style>\n",
              "  .colab-df-quickchart {\n",
              "      --bg-color: #E8F0FE;\n",
              "      --fill-color: #1967D2;\n",
              "      --hover-bg-color: #E2EBFA;\n",
              "      --hover-fill-color: #174EA6;\n",
              "      --disabled-fill-color: #AAA;\n",
              "      --disabled-bg-color: #DDD;\n",
              "  }\n",
              "\n",
              "  [theme=dark] .colab-df-quickchart {\n",
              "      --bg-color: #3B4455;\n",
              "      --fill-color: #D2E3FC;\n",
              "      --hover-bg-color: #434B5C;\n",
              "      --hover-fill-color: #FFFFFF;\n",
              "      --disabled-bg-color: #3B4455;\n",
              "      --disabled-fill-color: #666;\n",
              "  }\n",
              "\n",
              "  .colab-df-quickchart {\n",
              "    background-color: var(--bg-color);\n",
              "    border: none;\n",
              "    border-radius: 50%;\n",
              "    cursor: pointer;\n",
              "    display: none;\n",
              "    fill: var(--fill-color);\n",
              "    height: 32px;\n",
              "    padding: 0;\n",
              "    width: 32px;\n",
              "  }\n",
              "\n",
              "  .colab-df-quickchart:hover {\n",
              "    background-color: var(--hover-bg-color);\n",
              "    box-shadow: 0 1px 2px rgba(60, 64, 67, 0.3), 0 1px 3px 1px rgba(60, 64, 67, 0.15);\n",
              "    fill: var(--button-hover-fill-color);\n",
              "  }\n",
              "\n",
              "  .colab-df-quickchart-complete:disabled,\n",
              "  .colab-df-quickchart-complete:disabled:hover {\n",
              "    background-color: var(--disabled-bg-color);\n",
              "    fill: var(--disabled-fill-color);\n",
              "    box-shadow: none;\n",
              "  }\n",
              "\n",
              "  .colab-df-spinner {\n",
              "    border: 2px solid var(--fill-color);\n",
              "    border-color: transparent;\n",
              "    border-bottom-color: var(--fill-color);\n",
              "    animation:\n",
              "      spin 1s steps(1) infinite;\n",
              "  }\n",
              "\n",
              "  @keyframes spin {\n",
              "    0% {\n",
              "      border-color: transparent;\n",
              "      border-bottom-color: var(--fill-color);\n",
              "      border-left-color: var(--fill-color);\n",
              "    }\n",
              "    20% {\n",
              "      border-color: transparent;\n",
              "      border-left-color: var(--fill-color);\n",
              "      border-top-color: var(--fill-color);\n",
              "    }\n",
              "    30% {\n",
              "      border-color: transparent;\n",
              "      border-left-color: var(--fill-color);\n",
              "      border-top-color: var(--fill-color);\n",
              "      border-right-color: var(--fill-color);\n",
              "    }\n",
              "    40% {\n",
              "      border-color: transparent;\n",
              "      border-right-color: var(--fill-color);\n",
              "      border-top-color: var(--fill-color);\n",
              "    }\n",
              "    60% {\n",
              "      border-color: transparent;\n",
              "      border-right-color: var(--fill-color);\n",
              "    }\n",
              "    80% {\n",
              "      border-color: transparent;\n",
              "      border-right-color: var(--fill-color);\n",
              "      border-bottom-color: var(--fill-color);\n",
              "    }\n",
              "    90% {\n",
              "      border-color: transparent;\n",
              "      border-bottom-color: var(--fill-color);\n",
              "    }\n",
              "  }\n",
              "</style>\n",
              "\n",
              "  <script>\n",
              "    async function quickchart(key) {\n",
              "      const quickchartButtonEl =\n",
              "        document.querySelector('#' + key + ' button');\n",
              "      quickchartButtonEl.disabled = true;  // To prevent multiple clicks.\n",
              "      quickchartButtonEl.classList.add('colab-df-spinner');\n",
              "      try {\n",
              "        const charts = await google.colab.kernel.invokeFunction(\n",
              "            'suggestCharts', [key], {});\n",
              "      } catch (error) {\n",
              "        console.error('Error during call to suggestCharts:', error);\n",
              "      }\n",
              "      quickchartButtonEl.classList.remove('colab-df-spinner');\n",
              "      quickchartButtonEl.classList.add('colab-df-quickchart-complete');\n",
              "    }\n",
              "    (() => {\n",
              "      let quickchartButtonEl =\n",
              "        document.querySelector('#df-773e0e9a-b6e9-4786-bf81-62b30a6bb59b button');\n",
              "      quickchartButtonEl.style.display =\n",
              "        google.colab.kernel.accessAllowed ? 'block' : 'none';\n",
              "    })();\n",
              "  </script>\n",
              "</div>\n",
              "    </div>\n",
              "  </div>\n"
            ]
          },
          "metadata": {},
          "execution_count": 4
        }
      ],
      "source": [
        "data"
      ]
    },
    {
      "cell_type": "code",
      "execution_count": 5,
      "id": "732ae7c1",
      "metadata": {
        "colab": {
          "base_uri": "https://localhost:8080/",
          "height": 300
        },
        "id": "732ae7c1",
        "outputId": "49d850b8-10b6-49ff-a4b9-ebec2330dc82"
      },
      "outputs": [
        {
          "output_type": "execute_result",
          "data": {
            "text/plain": [
              "       Delivery Time  Sorting Time\n",
              "count      21.000000     21.000000\n",
              "mean       16.790952      6.190476\n",
              "std         5.074901      2.542028\n",
              "min         8.000000      2.000000\n",
              "25%        13.500000      4.000000\n",
              "50%        17.830000      6.000000\n",
              "75%        19.750000      8.000000\n",
              "max        29.000000     10.000000"
            ],
            "text/html": [
              "\n",
              "  <div id=\"df-6f27ac7b-b5f0-468b-9370-34b882bca445\" class=\"colab-df-container\">\n",
              "    <div>\n",
              "<style scoped>\n",
              "    .dataframe tbody tr th:only-of-type {\n",
              "        vertical-align: middle;\n",
              "    }\n",
              "\n",
              "    .dataframe tbody tr th {\n",
              "        vertical-align: top;\n",
              "    }\n",
              "\n",
              "    .dataframe thead th {\n",
              "        text-align: right;\n",
              "    }\n",
              "</style>\n",
              "<table border=\"1\" class=\"dataframe\">\n",
              "  <thead>\n",
              "    <tr style=\"text-align: right;\">\n",
              "      <th></th>\n",
              "      <th>Delivery Time</th>\n",
              "      <th>Sorting Time</th>\n",
              "    </tr>\n",
              "  </thead>\n",
              "  <tbody>\n",
              "    <tr>\n",
              "      <th>count</th>\n",
              "      <td>21.000000</td>\n",
              "      <td>21.000000</td>\n",
              "    </tr>\n",
              "    <tr>\n",
              "      <th>mean</th>\n",
              "      <td>16.790952</td>\n",
              "      <td>6.190476</td>\n",
              "    </tr>\n",
              "    <tr>\n",
              "      <th>std</th>\n",
              "      <td>5.074901</td>\n",
              "      <td>2.542028</td>\n",
              "    </tr>\n",
              "    <tr>\n",
              "      <th>min</th>\n",
              "      <td>8.000000</td>\n",
              "      <td>2.000000</td>\n",
              "    </tr>\n",
              "    <tr>\n",
              "      <th>25%</th>\n",
              "      <td>13.500000</td>\n",
              "      <td>4.000000</td>\n",
              "    </tr>\n",
              "    <tr>\n",
              "      <th>50%</th>\n",
              "      <td>17.830000</td>\n",
              "      <td>6.000000</td>\n",
              "    </tr>\n",
              "    <tr>\n",
              "      <th>75%</th>\n",
              "      <td>19.750000</td>\n",
              "      <td>8.000000</td>\n",
              "    </tr>\n",
              "    <tr>\n",
              "      <th>max</th>\n",
              "      <td>29.000000</td>\n",
              "      <td>10.000000</td>\n",
              "    </tr>\n",
              "  </tbody>\n",
              "</table>\n",
              "</div>\n",
              "    <div class=\"colab-df-buttons\">\n",
              "\n",
              "  <div class=\"colab-df-container\">\n",
              "    <button class=\"colab-df-convert\" onclick=\"convertToInteractive('df-6f27ac7b-b5f0-468b-9370-34b882bca445')\"\n",
              "            title=\"Convert this dataframe to an interactive table.\"\n",
              "            style=\"display:none;\">\n",
              "\n",
              "  <svg xmlns=\"http://www.w3.org/2000/svg\" height=\"24px\" viewBox=\"0 -960 960 960\">\n",
              "    <path d=\"M120-120v-720h720v720H120Zm60-500h600v-160H180v160Zm220 220h160v-160H400v160Zm0 220h160v-160H400v160ZM180-400h160v-160H180v160Zm440 0h160v-160H620v160ZM180-180h160v-160H180v160Zm440 0h160v-160H620v160Z\"/>\n",
              "  </svg>\n",
              "    </button>\n",
              "\n",
              "  <style>\n",
              "    .colab-df-container {\n",
              "      display:flex;\n",
              "      gap: 12px;\n",
              "    }\n",
              "\n",
              "    .colab-df-convert {\n",
              "      background-color: #E8F0FE;\n",
              "      border: none;\n",
              "      border-radius: 50%;\n",
              "      cursor: pointer;\n",
              "      display: none;\n",
              "      fill: #1967D2;\n",
              "      height: 32px;\n",
              "      padding: 0 0 0 0;\n",
              "      width: 32px;\n",
              "    }\n",
              "\n",
              "    .colab-df-convert:hover {\n",
              "      background-color: #E2EBFA;\n",
              "      box-shadow: 0px 1px 2px rgba(60, 64, 67, 0.3), 0px 1px 3px 1px rgba(60, 64, 67, 0.15);\n",
              "      fill: #174EA6;\n",
              "    }\n",
              "\n",
              "    .colab-df-buttons div {\n",
              "      margin-bottom: 4px;\n",
              "    }\n",
              "\n",
              "    [theme=dark] .colab-df-convert {\n",
              "      background-color: #3B4455;\n",
              "      fill: #D2E3FC;\n",
              "    }\n",
              "\n",
              "    [theme=dark] .colab-df-convert:hover {\n",
              "      background-color: #434B5C;\n",
              "      box-shadow: 0px 1px 3px 1px rgba(0, 0, 0, 0.15);\n",
              "      filter: drop-shadow(0px 1px 2px rgba(0, 0, 0, 0.3));\n",
              "      fill: #FFFFFF;\n",
              "    }\n",
              "  </style>\n",
              "\n",
              "    <script>\n",
              "      const buttonEl =\n",
              "        document.querySelector('#df-6f27ac7b-b5f0-468b-9370-34b882bca445 button.colab-df-convert');\n",
              "      buttonEl.style.display =\n",
              "        google.colab.kernel.accessAllowed ? 'block' : 'none';\n",
              "\n",
              "      async function convertToInteractive(key) {\n",
              "        const element = document.querySelector('#df-6f27ac7b-b5f0-468b-9370-34b882bca445');\n",
              "        const dataTable =\n",
              "          await google.colab.kernel.invokeFunction('convertToInteractive',\n",
              "                                                    [key], {});\n",
              "        if (!dataTable) return;\n",
              "\n",
              "        const docLinkHtml = 'Like what you see? Visit the ' +\n",
              "          '<a target=\"_blank\" href=https://colab.research.google.com/notebooks/data_table.ipynb>data table notebook</a>'\n",
              "          + ' to learn more about interactive tables.';\n",
              "        element.innerHTML = '';\n",
              "        dataTable['output_type'] = 'display_data';\n",
              "        await google.colab.output.renderOutput(dataTable, element);\n",
              "        const docLink = document.createElement('div');\n",
              "        docLink.innerHTML = docLinkHtml;\n",
              "        element.appendChild(docLink);\n",
              "      }\n",
              "    </script>\n",
              "  </div>\n",
              "\n",
              "\n",
              "<div id=\"df-8bbf4d60-7f5e-4e7a-9410-87fecbc69fdd\">\n",
              "  <button class=\"colab-df-quickchart\" onclick=\"quickchart('df-8bbf4d60-7f5e-4e7a-9410-87fecbc69fdd')\"\n",
              "            title=\"Suggest charts.\"\n",
              "            style=\"display:none;\">\n",
              "\n",
              "<svg xmlns=\"http://www.w3.org/2000/svg\" height=\"24px\"viewBox=\"0 0 24 24\"\n",
              "     width=\"24px\">\n",
              "    <g>\n",
              "        <path d=\"M19 3H5c-1.1 0-2 .9-2 2v14c0 1.1.9 2 2 2h14c1.1 0 2-.9 2-2V5c0-1.1-.9-2-2-2zM9 17H7v-7h2v7zm4 0h-2V7h2v10zm4 0h-2v-4h2v4z\"/>\n",
              "    </g>\n",
              "</svg>\n",
              "  </button>\n",
              "\n",
              "<style>\n",
              "  .colab-df-quickchart {\n",
              "      --bg-color: #E8F0FE;\n",
              "      --fill-color: #1967D2;\n",
              "      --hover-bg-color: #E2EBFA;\n",
              "      --hover-fill-color: #174EA6;\n",
              "      --disabled-fill-color: #AAA;\n",
              "      --disabled-bg-color: #DDD;\n",
              "  }\n",
              "\n",
              "  [theme=dark] .colab-df-quickchart {\n",
              "      --bg-color: #3B4455;\n",
              "      --fill-color: #D2E3FC;\n",
              "      --hover-bg-color: #434B5C;\n",
              "      --hover-fill-color: #FFFFFF;\n",
              "      --disabled-bg-color: #3B4455;\n",
              "      --disabled-fill-color: #666;\n",
              "  }\n",
              "\n",
              "  .colab-df-quickchart {\n",
              "    background-color: var(--bg-color);\n",
              "    border: none;\n",
              "    border-radius: 50%;\n",
              "    cursor: pointer;\n",
              "    display: none;\n",
              "    fill: var(--fill-color);\n",
              "    height: 32px;\n",
              "    padding: 0;\n",
              "    width: 32px;\n",
              "  }\n",
              "\n",
              "  .colab-df-quickchart:hover {\n",
              "    background-color: var(--hover-bg-color);\n",
              "    box-shadow: 0 1px 2px rgba(60, 64, 67, 0.3), 0 1px 3px 1px rgba(60, 64, 67, 0.15);\n",
              "    fill: var(--button-hover-fill-color);\n",
              "  }\n",
              "\n",
              "  .colab-df-quickchart-complete:disabled,\n",
              "  .colab-df-quickchart-complete:disabled:hover {\n",
              "    background-color: var(--disabled-bg-color);\n",
              "    fill: var(--disabled-fill-color);\n",
              "    box-shadow: none;\n",
              "  }\n",
              "\n",
              "  .colab-df-spinner {\n",
              "    border: 2px solid var(--fill-color);\n",
              "    border-color: transparent;\n",
              "    border-bottom-color: var(--fill-color);\n",
              "    animation:\n",
              "      spin 1s steps(1) infinite;\n",
              "  }\n",
              "\n",
              "  @keyframes spin {\n",
              "    0% {\n",
              "      border-color: transparent;\n",
              "      border-bottom-color: var(--fill-color);\n",
              "      border-left-color: var(--fill-color);\n",
              "    }\n",
              "    20% {\n",
              "      border-color: transparent;\n",
              "      border-left-color: var(--fill-color);\n",
              "      border-top-color: var(--fill-color);\n",
              "    }\n",
              "    30% {\n",
              "      border-color: transparent;\n",
              "      border-left-color: var(--fill-color);\n",
              "      border-top-color: var(--fill-color);\n",
              "      border-right-color: var(--fill-color);\n",
              "    }\n",
              "    40% {\n",
              "      border-color: transparent;\n",
              "      border-right-color: var(--fill-color);\n",
              "      border-top-color: var(--fill-color);\n",
              "    }\n",
              "    60% {\n",
              "      border-color: transparent;\n",
              "      border-right-color: var(--fill-color);\n",
              "    }\n",
              "    80% {\n",
              "      border-color: transparent;\n",
              "      border-right-color: var(--fill-color);\n",
              "      border-bottom-color: var(--fill-color);\n",
              "    }\n",
              "    90% {\n",
              "      border-color: transparent;\n",
              "      border-bottom-color: var(--fill-color);\n",
              "    }\n",
              "  }\n",
              "</style>\n",
              "\n",
              "  <script>\n",
              "    async function quickchart(key) {\n",
              "      const quickchartButtonEl =\n",
              "        document.querySelector('#' + key + ' button');\n",
              "      quickchartButtonEl.disabled = true;  // To prevent multiple clicks.\n",
              "      quickchartButtonEl.classList.add('colab-df-spinner');\n",
              "      try {\n",
              "        const charts = await google.colab.kernel.invokeFunction(\n",
              "            'suggestCharts', [key], {});\n",
              "      } catch (error) {\n",
              "        console.error('Error during call to suggestCharts:', error);\n",
              "      }\n",
              "      quickchartButtonEl.classList.remove('colab-df-spinner');\n",
              "      quickchartButtonEl.classList.add('colab-df-quickchart-complete');\n",
              "    }\n",
              "    (() => {\n",
              "      let quickchartButtonEl =\n",
              "        document.querySelector('#df-8bbf4d60-7f5e-4e7a-9410-87fecbc69fdd button');\n",
              "      quickchartButtonEl.style.display =\n",
              "        google.colab.kernel.accessAllowed ? 'block' : 'none';\n",
              "    })();\n",
              "  </script>\n",
              "</div>\n",
              "    </div>\n",
              "  </div>\n"
            ]
          },
          "metadata": {},
          "execution_count": 5
        }
      ],
      "source": [
        "data.describe()"
      ]
    },
    {
      "cell_type": "code",
      "execution_count": 6,
      "id": "1d7150df",
      "metadata": {
        "colab": {
          "base_uri": "https://localhost:8080/",
          "height": 449
        },
        "id": "1d7150df",
        "outputId": "667a988f-f941-42e2-c3b8-5bbc047dcc6b"
      },
      "outputs": [
        {
          "output_type": "execute_result",
          "data": {
            "text/plain": [
              "<Axes: >"
            ]
          },
          "metadata": {},
          "execution_count": 6
        },
        {
          "output_type": "display_data",
          "data": {
            "text/plain": [
              "<Figure size 640x480 with 1 Axes>"
            ],
            "image/png": "[encoded data removed]"
          },
          "metadata": {}
        }
      ],
      "source": [
        "data.boxplot()#No outliers"
      ]
    },
    {
      "cell_type": "code",
      "execution_count": 7,
      "id": "1e32bc50",
      "metadata": {
        "colab": {
          "base_uri": "https://localhost:8080/",
          "height": 53
        },
        "id": "1e32bc50",
        "outputId": "1eaf4e12-1cfe-4aa4-e42a-680537f486fc"
      },
      "outputs": [
        {
          "output_type": "execute_result",
          "data": {
            "text/plain": [
              "Empty DataFrame\n",
              "Columns: [Delivery Time, Sorting Time]\n",
              "Index: []"
            ],
            "text/html": [
              "\n",
              "  <div id=\"df-4c8f8383-afb4-47f2-9f3e-0cdc4e193576\" class=\"colab-df-container\">\n",
              "    <div>\n",
              "<style scoped>\n",
              "    .dataframe tbody tr th:only-of-type {\n",
              "        vertical-align: middle;\n",
              "    }\n",
              "\n",
              "    .dataframe tbody tr th {\n",
              "        vertical-align: top;\n",
              "    }\n",
              "\n",
              "    .dataframe thead th {\n",
              "        text-align: right;\n",
              "    }\n",
              "</style>\n",
              "<table border=\"1\" class=\"dataframe\">\n",
              "  <thead>\n",
              "    <tr style=\"text-align: right;\">\n",
              "      <th></th>\n",
              "      <th>Delivery Time</th>\n",
              "      <th>Sorting Time</th>\n",
              "    </tr>\n",
              "  </thead>\n",
              "  <tbody>\n",
              "  </tbody>\n",
              "</table>\n",
              "</div>\n",
              "    <div class=\"colab-df-buttons\">\n",
              "\n",
              "  <div class=\"colab-df-container\">\n",
              "    <button class=\"colab-df-convert\" onclick=\"convertToInteractive('df-4c8f8383-afb4-47f2-9f3e-0cdc4e193576')\"\n",
              "            title=\"Convert this dataframe to an interactive table.\"\n",
              "            style=\"display:none;\">\n",
              "\n",
              "  <svg xmlns=\"http://www.w3.org/2000/svg\" height=\"24px\" viewBox=\"0 -960 960 960\">\n",
              "    <path d=\"M120-120v-720h720v720H120Zm60-500h600v-160H180v160Zm220 220h160v-160H400v160Zm0 220h160v-160H400v160ZM180-400h160v-160H180v160Zm440 0h160v-160H620v160ZM180-180h160v-160H180v160Zm440 0h160v-160H620v160Z\"/>\n",
              "  </svg>\n",
              "    </button>\n",
              "\n",
              "  <style>\n",
              "    .colab-df-container {\n",
              "      display:flex;\n",
              "      gap: 12px;\n",
              "    }\n",
              "\n",
              "    .colab-df-convert {\n",
              "      background-color: #E8F0FE;\n",
              "      border: none;\n",
              "      border-radius: 50%;\n",
              "      cursor: pointer;\n",
              "      display: none;\n",
              "      fill: #1967D2;\n",
              "      height: 32px;\n",
              "      padding: 0 0 0 0;\n",
              "      width: 32px;\n",
              "    }\n",
              "\n",
              "    .colab-df-convert:hover {\n",
              "      background-color: #E2EBFA;\n",
              "      box-shadow: 0px 1px 2px rgba(60, 64, 67, 0.3), 0px 1px 3px 1px rgba(60, 64, 67, 0.15);\n",
              "      fill: #174EA6;\n",
              "    }\n",
              "\n",
              "    .colab-df-buttons div {\n",
              "      margin-bottom: 4px;\n",
              "    }\n",
              "\n",
              "    [theme=dark] .colab-df-convert {\n",
              "      background-color: #3B4455;\n",
              "      fill: #D2E3FC;\n",
              "    }\n",
              "\n",
              "    [theme=dark] .colab-df-convert:hover {\n",
              "      background-color: #434B5C;\n",
              "      box-shadow: 0px 1px 3px 1px rgba(0, 0, 0, 0.15);\n",
              "      filter: drop-shadow(0px 1px 2px rgba(0, 0, 0, 0.3));\n",
              "      fill: #FFFFFF;\n",
              "    }\n",
              "  </style>\n",
              "\n",
              "    <script>\n",
              "      const buttonEl =\n",
              "        document.querySelector('#df-4c8f8383-afb4-47f2-9f3e-0cdc4e193576 button.colab-df-convert');\n",
              "      buttonEl.style.display =\n",
              "        google.colab.kernel.accessAllowed ? 'block' : 'none';\n",
              "\n",
              "      async function convertToInteractive(key) {\n",
              "        const element = document.querySelector('#df-4c8f8383-afb4-47f2-9f3e-0cdc4e193576');\n",
              "        const dataTable =\n",
              "          await google.colab.kernel.invokeFunction('convertToInteractive',\n",
              "                                                    [key], {});\n",
              "        if (!dataTable) return;\n",
              "\n",
              "        const docLinkHtml = 'Like what you see? Visit the ' +\n",
              "          '<a target=\"_blank\" href=https://colab.research.google.com/notebooks/data_table.ipynb>data table notebook</a>'\n",
              "          + ' to learn more about interactive tables.';\n",
              "        element.innerHTML = '';\n",
              "        dataTable['output_type'] = 'display_data';\n",
              "        await google.colab.output.renderOutput(dataTable, element);\n",
              "        const docLink = document.createElement('div');\n",
              "        docLink.innerHTML = docLinkHtml;\n",
              "        element.appendChild(docLink);\n",
              "      }\n",
              "    </script>\n",
              "  </div>\n",
              "\n",
              "    </div>\n",
              "  </div>\n"
            ]
          },
          "metadata": {},
          "execution_count": 7
        }
      ],
      "source": [
        "data[data.duplicated()]#No duplicates"
      ]
    },
    {
      "cell_type": "code",
      "execution_count": 8,
      "id": "e6321c40",
      "metadata": {
        "colab": {
          "base_uri": "https://localhost:8080/"
        },
        "id": "e6321c40",
        "outputId": "71aa01e1-44dd-4075-d707-7735523a1838"
      },
      "outputs": [
        {
          "output_type": "execute_result",
          "data": {
            "text/plain": [
              "Delivery Time    0\n",
              "Sorting Time     0\n",
              "dtype: int64"
            ]
          },
          "metadata": {},
          "execution_count": 8
        }
      ],
      "source": [
        "data.isna().sum()#No missing values"
      ]
    },
    {
      "cell_type": "code",
      "execution_count": 9,
      "id": "37dda234",
      "metadata": {
        "colab": {
          "base_uri": "https://localhost:8080/"
        },
        "id": "37dda234",
        "outputId": "f0b7a6f1-44c5-4e7f-f2c6-dfbb047458ce"
      },
      "outputs": [
        {
          "output_type": "stream",
          "name": "stdout",
          "text": [
            "<class 'pandas.core.frame.DataFrame'>\n",
            "RangeIndex: 21 entries, 0 to 20\n",
            "Data columns (total 2 columns):\n",
            " #   Column         Non-Null Count  Dtype  \n",
            "---  ------         --------------  -----  \n",
            " 0   Delivery Time  21 non-null     float64\n",
            " 1   Sorting Time   21 non-null     int64  \n",
            "dtypes: float64(1), int64(1)\n",
            "memory usage: 464.0 bytes\n"
          ]
        }
      ],
      "source": [
        "data.info()"
      ]
    },
    {
      "cell_type": "code",
      "execution_count": 10,
      "id": "434ac74c",
      "metadata": {
        "colab": {
          "base_uri": "https://localhost:8080/",
          "height": 467
        },
        "id": "434ac74c",
        "outputId": "98c0b55f-5171-4079-d199-09a19a3a68e1"
      },
      "outputs": [
        {
          "output_type": "execute_result",
          "data": {
            "text/plain": [
              "<Axes: xlabel='Delivery Time', ylabel='Count'>"
            ]
          },
          "metadata": {},
          "execution_count": 10
        },
        {
          "output_type": "display_data",
          "data": {
            "text/plain": [
              "<Figure size 640x480 with 1 Axes>"
            ],
            "image/png": "[encoded data removed]"
          },
          "metadata": {}
        }
      ],
      "source": [
        "sns.histplot(data['Delivery Time'],kde=True,alpha=0.1)"
      ]
    },
    {
      "cell_type": "code",
      "execution_count": 11,
      "id": "b8a55b10",
      "metadata": {
        "colab": {
          "base_uri": "https://localhost:8080/"
        },
        "id": "b8a55b10",
        "outputId": "7066ce6c-4aac-4b86-a6a7-fd8f9aeb8c0a"
      },
      "outputs": [
        {
          "output_type": "execute_result",
          "data": {
            "text/plain": [
              "0.3523900822831107"
            ]
          },
          "metadata": {},
          "execution_count": 11
        }
      ],
      "source": [
        "data['Delivery Time'].skew()# for practical reasons we can consider this as close to normal distribution\n"
      ]
    },
    {
      "cell_type": "code",
      "execution_count": 12,
      "id": "d14246ba",
      "metadata": {
        "colab": {
          "base_uri": "https://localhost:8080/",
          "height": 467
        },
        "id": "d14246ba",
        "outputId": "f0b59c50-5f32-444f-a2a7-b6313bce4e59"
      },
      "outputs": [
        {
          "output_type": "execute_result",
          "data": {
            "text/plain": [
              "<Axes: xlabel='Sorting Time', ylabel='Count'>"
            ]
          },
          "metadata": {},
          "execution_count": 12
        },
        {
          "output_type": "display_data",
          "data": {
            "text/plain": [
              "<Figure size 640x480 with 1 Axes>"
            ],
            "image/png": "[encoded data removed]"
          },
          "metadata": {}
        }
      ],
      "source": [
        "sns.histplot(data['Sorting Time'],kde=True,alpha=0.1)"
      ]
    },
    {
      "cell_type": "code",
      "execution_count": 13,
      "id": "2cfe24a4",
      "metadata": {
        "colab": {
          "base_uri": "https://localhost:8080/"
        },
        "id": "2cfe24a4",
        "outputId": "57fe7452-6a5e-4cde-a62f-bc6547953b33"
      },
      "outputs": [
        {
          "output_type": "execute_result",
          "data": {
            "text/plain": [
              "0.047115474210530174"
            ]
          },
          "metadata": {},
          "execution_count": 13
        }
      ],
      "source": [
        "data['Sorting Time'].skew() # for practical reasons we can consider this as close to normal distribution"
      ]
    },
    {
      "cell_type": "code",
      "execution_count": 14,
      "id": "dff26c61",
      "metadata": {
        "id": "dff26c61"
      },
      "outputs": [],
      "source": [
        "from sklearn.linear_model import LinearRegression"
      ]
    },
    {
      "cell_type": "code",
      "execution_count": 15,
      "id": "28409c75",
      "metadata": {
        "id": "28409c75"
      },
      "outputs": [],
      "source": [
        "from sklearn.model_selection import train_test_split"
      ]
    },
    {
      "cell_type": "code",
      "execution_count": 16,
      "id": "7bbd2dc8",
      "metadata": {
        "id": "7bbd2dc8"
      },
      "outputs": [],
      "source": [
        "y=data['Delivery Time'].values.reshape(-1,1)#Target\n",
        "X=data[\"Sorting Time\"].values.reshape(-1,1)#Feature"
      ]
    },
    {
      "cell_type": "code",
      "execution_count": 17,
      "id": "0301edc1",
      "metadata": {
        "colab": {
          "base_uri": "https://localhost:8080/"
        },
        "id": "0301edc1",
        "outputId": "a0a77758-6b5e-4334-eb95-e7ff82a66477"
      },
      "outputs": [
        {
          "output_type": "execute_result",
          "data": {
            "text/plain": [
              "array([[21.  ],\n",
              "       [13.5 ],\n",
              "       [19.75],\n",
              "       [24.  ],\n",
              "       [29.  ],\n",
              "       [15.35],\n",
              "       [19.  ],\n",
              "       [ 9.5 ],\n",
              "       [17.9 ],\n",
              "       [18.75],\n",
              "       [19.83],\n",
              "       [10.75],\n",
              "       [16.68],\n",
              "       [11.5 ],\n",
              "       [12.03],\n",
              "       [14.88],\n",
              "       [13.75],\n",
              "       [18.11],\n",
              "       [ 8.  ],\n",
              "       [17.83],\n",
              "       [21.5 ]])"
            ]
          },
          "metadata": {},
          "execution_count": 17
        }
      ],
      "source": [
        "y"
      ]
    },
    {
      "cell_type": "code",
      "execution_count": 18,
      "id": "b4d58522",
      "metadata": {
        "id": "b4d58522"
      },
      "outputs": [],
      "source": [
        "X_train,X_test,y_train,y_test=train_test_split(X,y,test_size=0.2,random_state=42)"
      ]
    },
    {
      "cell_type": "code",
      "execution_count": 19,
      "id": "be451bae",
      "metadata": {
        "id": "be451bae"
      },
      "outputs": [],
      "source": [
        "model=LinearRegression()"
      ]
    },
    {
      "cell_type": "code",
      "execution_count": 20,
      "id": "6cdb7033",
      "metadata": {
        "colab": {
          "base_uri": "https://localhost:8080/",
          "height": 74
        },
        "id": "6cdb7033",
        "outputId": "9dd7bec4-a48c-4c58-c3a1-1e2b07c2f6bd"
      },
      "outputs": [
        {
          "output_type": "execute_result",
          "data": {
            "text/plain": [
              "LinearRegression()"
            ],
            "text/html": [
              "<style>#sk-container-id-1 {color: black;background-color: white;}#sk-container-id-1 pre{padding: 0;}#sk-container-id-1 div.sk-toggleable {background-color: white;}#sk-container-id-1 label.sk-toggleable__label {cursor: pointer;display: block;width: 100%;margin-bottom: 0;padding: 0.3em;box-sizing: border-box;text-align: center;}#sk-container-id-1 label.sk-toggleable__label-arrow:before {content: \"▸\";float: left;margin-right: 0.25em;color: #696969;}#sk-container-id-1 label.sk-toggleable__label-arrow:hover:before {color: black;}#sk-container-id-1 div.sk-estimator:hover label.sk-toggleable__label-arrow:before {color: black;}#sk-container-id-1 div.sk-toggleable__content {max-height: 0;max-width: 0;overflow: hidden;text-align: left;background-color: #f0f8ff;}#sk-container-id-1 div.sk-toggleable__content pre {margin: 0.2em;color: black;border-radius: 0.25em;background-color: #f0f8ff;}#sk-container-id-1 input.sk-toggleable__control:checked~div.sk-toggleable__content {max-height: 200px;max-width: 100%;overflow: auto;}#sk-container-id-1 input.sk-toggleable__control:checked~label.sk-toggleable__label-arrow:before {content: \"▾\";}#sk-container-id-1 div.sk-estimator input.sk-toggleable__control:checked~label.sk-toggleable__label {background-color: #d4ebff;}#sk-container-id-1 div.sk-label input.sk-toggleable__control:checked~label.sk-toggleable__label {background-color: #d4ebff;}#sk-container-id-1 input.sk-hidden--visually {border: 0;clip: rect(1px 1px 1px 1px);clip: rect(1px, 1px, 1px, 1px);height: 1px;margin: -1px;overflow: hidden;padding: 0;position: absolute;width: 1px;}#sk-container-id-1 div.sk-estimator {font-family: monospace;background-color: #f0f8ff;border: 1px dotted black;border-radius: 0.25em;box-sizing: border-box;margin-bottom: 0.5em;}#sk-container-id-1 div.sk-estimator:hover {background-color: #d4ebff;}#sk-container-id-1 div.sk-parallel-item::after {content: \"\";width: 100%;border-bottom: 1px solid gray;flex-grow: 1;}#sk-container-id-1 div.sk-label:hover label.sk-toggleable__label {background-color: #d4ebff;}#sk-container-id-1 div.sk-serial::before {content: \"\";position: absolute;border-left: 1px solid gray;box-sizing: border-box;top: 0;bottom: 0;left: 50%;z-index: 0;}#sk-container-id-1 div.sk-serial {display: flex;flex-direction: column;align-items: center;background-color: white;padding-right: 0.2em;padding-left: 0.2em;position: relative;}#sk-container-id-1 div.sk-item {position: relative;z-index: 1;}#sk-container-id-1 div.sk-parallel {display: flex;align-items: stretch;justify-content: center;background-color: white;position: relative;}#sk-container-id-1 div.sk-item::before, #sk-container-id-1 div.sk-parallel-item::before {content: \"\";position: absolute;border-left: 1px solid gray;box-sizing: border-box;top: 0;bottom: 0;left: 50%;z-index: -1;}#sk-container-id-1 div.sk-parallel-item {display: flex;flex-direction: column;z-index: 1;position: relative;background-color: white;}#sk-container-id-1 div.sk-parallel-item:first-child::after {align-self: flex-end;width: 50%;}#sk-container-id-1 div.sk-parallel-item:last-child::after {align-self: flex-start;width: 50%;}#sk-container-id-1 div.sk-parallel-item:only-child::after {width: 0;}#sk-container-id-1 div.sk-dashed-wrapped {border: 1px dashed gray;margin: 0 0.4em 0.5em 0.4em;box-sizing: border-box;padding-bottom: 0.4em;background-color: white;}#sk-container-id-1 div.sk-label label {font-family: monospace;font-weight: bold;display: inline-block;line-height: 1.2em;}#sk-container-id-1 div.sk-label-container {text-align: center;}#sk-container-id-1 div.sk-container {/* jupyter's `normalize.less` sets `[hidden] { display: none; }` but bootstrap.min.css set `[hidden] { display: none !important; }` so we also need the `!important` here to be able to override the default hidden behavior on the sphinx rendered scikit-learn.org. See: https://github.com/scikit-learn/scikit-learn/issues/21755 */display: inline-block !important;position: relative;}#sk-container-id-1 div.sk-text-repr-fallback {display: none;}</style><div id=\"sk-container-id-1\" class=\"sk-top-container\"><div class=\"sk-text-repr-fallback\"><pre>LinearRegression()</pre><b>In a Jupyter environment, please rerun this cell to show the HTML representation or trust the notebook. <br />On GitHub, the HTML representation is unable to render, please try loading this page with nbviewer.org.</b></div><div class=\"sk-container\" hidden><div class=\"sk-item\"><div class=\"sk-estimator sk-toggleable\"><input class=\"sk-toggleable__control sk-hidden--visually\" id=\"sk-estimator-id-1\" type=\"checkbox\" checked><label for=\"sk-estimator-id-1\" class=\"sk-toggleable__label sk-toggleable__label-arrow\">LinearRegression</label><div class=\"sk-toggleable__content\"><pre>LinearRegression()</pre></div></div></div></div></div>"
            ]
          },
          "metadata": {},
          "execution_count": 20
        }
      ],
      "source": [
        "model.fit(X_train,y_train)"
      ]
    },
    {
      "cell_type": "code",
      "execution_count": 21,
      "id": "2a0d6128",
      "metadata": {
        "scrolled": true,
        "id": "2a0d6128"
      },
      "outputs": [],
      "source": [
        "y_pred=model.predict(X)"
      ]
    },
    {
      "cell_type": "code",
      "execution_count": 22,
      "id": "1cf1c550",
      "metadata": {
        "colab": {
          "base_uri": "https://localhost:8080/"
        },
        "id": "1cf1c550",
        "outputId": "d37f472b-382f-41be-9caf-631293b53b7b"
      },
      "outputs": [
        {
          "output_type": "execute_result",
          "data": {
            "text/plain": [
              "array([[21.  ],\n",
              "       [18.11],\n",
              "       [14.88],\n",
              "       [13.5 ],\n",
              "       [17.9 ]])"
            ]
          },
          "metadata": {},
          "execution_count": 22
        }
      ],
      "source": [
        "y_test"
      ]
    },
    {
      "cell_type": "code",
      "execution_count": 23,
      "id": "f7c171d8",
      "metadata": {
        "id": "f7c171d8"
      },
      "outputs": [],
      "source": [
        "from sklearn.metrics import mean_absolute_error,mean_squared_error,r2_score"
      ]
    },
    {
      "cell_type": "code",
      "execution_count": 24,
      "id": "cde42ece",
      "metadata": {
        "colab": {
          "base_uri": "https://localhost:8080/"
        },
        "id": "cde42ece",
        "outputId": "c5008de7-540a-4054-e908-acff2c20ab55"
      },
      "outputs": [
        {
          "output_type": "execute_result",
          "data": {
            "text/plain": [
              "2.3064638757822182"
            ]
          },
          "metadata": {},
          "execution_count": 24
        }
      ],
      "source": [
        "mean_absolute_error(y_true=y,y_pred=y_pred)"
      ]
    },
    {
      "cell_type": "code",
      "execution_count": 25,
      "id": "faf13abf",
      "metadata": {
        "colab": {
          "base_uri": "https://localhost:8080/"
        },
        "id": "faf13abf",
        "outputId": "e9c9fdc1-4671-479b-c43b-9d6d1bca5f42"
      },
      "outputs": [
        {
          "output_type": "execute_result",
          "data": {
            "text/plain": [
              "8.838190117339568"
            ]
          },
          "metadata": {},
          "execution_count": 25
        }
      ],
      "source": [
        "mean_squared_error(y,y_pred)#increase with the outliers"
      ]
    },
    {
      "cell_type": "code",
      "execution_count": 26,
      "id": "70e11a89",
      "metadata": {
        "colab": {
          "base_uri": "https://localhost:8080/"
        },
        "id": "70e11a89",
        "outputId": "6295f76e-3d97-4605-a6ea-8cb911691f46"
      },
      "outputs": [
        {
          "output_type": "execute_result",
          "data": {
            "text/plain": [
              "0.6396724173614026"
            ]
          },
          "metadata": {},
          "execution_count": 26
        }
      ],
      "source": [
        "r2_score(y_true=y,y_pred=y_pred)"
      ]
    },
    {
      "cell_type": "code",
      "execution_count": 27,
      "id": "c42a4308",
      "metadata": {
        "colab": {
          "base_uri": "https://localhost:8080/",
          "height": 454
        },
        "id": "c42a4308",
        "outputId": "1738eb9b-45ac-40cf-f6c2-7bbd187410f1"
      },
      "outputs": [
        {
          "output_type": "display_data",
          "data": {
            "text/plain": [
              "<Figure size 640x480 with 1 Axes>"
            ],
            "image/png": "[encoded data removed]"
          },
          "metadata": {}
        }
      ],
      "source": [
        "plt.scatter(X, y, color='b', label='Actual Data')\n",
        "plt.plot(X, y_pred, color='r', label='Regression Line')\n",
        "plt.xlabel('X (Independent Variable)')\n",
        "plt.ylabel('y (Dependent Variable)')\n",
        "plt.legend()\n",
        "plt.show()"
      ]
    },
    {
      "cell_type": "code",
      "execution_count": 28,
      "id": "719beee6",
      "metadata": {
        "id": "719beee6"
      },
      "outputs": [],
      "source": [
        "#Poor r2 score, lets try to increase the r2 score by transforming the values, as the skewness is very low i dont thing\n",
        "#log transformation or square transformation will be necessary, lets just go with Power transformation"
      ]
    },
    {
      "cell_type": "code",
      "execution_count": 29,
      "id": "28df00ea",
      "metadata": {
        "id": "28df00ea"
      },
      "outputs": [],
      "source": [
        "from sklearn.preprocessing import PowerTransformer\n",
        "pt=PowerTransformer()\n",
        "X_train_yj=pt.fit_transform(X_train)\n",
        "X_test_yj=pt.transform(X_test)\n",
        "y_train_yj=pt.fit_transform(y_train)\n",
        "y_test_yj=pt.transform(y_test)"
      ]
    },
    {
      "cell_type": "code",
      "execution_count": 30,
      "id": "82ce8893",
      "metadata": {
        "colab": {
          "base_uri": "https://localhost:8080/"
        },
        "id": "82ce8893",
        "outputId": "2b26e628-ccb9-4112-e006-18ed8e366e7a"
      },
      "outputs": [
        {
          "output_type": "execute_result",
          "data": {
            "text/plain": [
              "0.4242577333409308"
            ]
          },
          "metadata": {},
          "execution_count": 30
        }
      ],
      "source": [
        "lr=LinearRegression()\n",
        "\n",
        "from sklearn.model_selection import cross_val_score\n",
        "np.mean(cross_val_score(estimator=lr,X=X_train_yj,y=y_train_yj))"
      ]
    },
    {
      "cell_type": "code",
      "execution_count": 31,
      "id": "f245a0ed",
      "metadata": {
        "colab": {
          "base_uri": "https://localhost:8080/"
        },
        "id": "f245a0ed",
        "outputId": "565cb5ce-00be-4b5d-aa65-c6e87bef2888"
      },
      "outputs": [
        {
          "output_type": "execute_result",
          "data": {
            "text/plain": [
              "0.6822714748417231"
            ]
          },
          "metadata": {},
          "execution_count": 31
        }
      ],
      "source": [
        "lr2=LinearRegression()\n",
        "lr2.fit(X,y)\n",
        "lr2.score(X,y)\n",
        "#As the data is too small we cant take the risk of splitting the data for validation"
      ]
    },
    {
      "cell_type": "code",
      "execution_count": 32,
      "id": "3dae04f6",
      "metadata": {
        "colab": {
          "base_uri": "https://localhost:8080/"
        },
        "id": "3dae04f6",
        "outputId": "d555b335-fd74-425e-fb62-9dcbcbe9f76e"
      },
      "outputs": [
        {
          "output_type": "execute_result",
          "data": {
            "text/plain": [
              "(array([[1.6490199]]), array([6.58273397]))"
            ]
          },
          "metadata": {},
          "execution_count": 32
        }
      ],
      "source": [
        "lr2.coef_,lr2.intercept_"
      ]
    },
    {
      "cell_type": "markdown",
      "id": "d0db4181",
      "metadata": {
        "id": "d0db4181"
      },
      "source": [
        "## Using Power Transformation on the whole data"
      ]
    },
    {
      "cell_type": "code",
      "execution_count": 33,
      "id": "a8156f30",
      "metadata": {
        "id": "a8156f30"
      },
      "outputs": [],
      "source": [
        "\n",
        "from sklearn.preprocessing import PowerTransformer\n",
        "pt2=PowerTransformer()\n",
        "X_scale=pt2.fit_transform(X)\n",
        "y_scale=pt2.transform(y)"
      ]
    },
    {
      "cell_type": "code",
      "execution_count": 33,
      "id": "7c97770a",
      "metadata": {
        "id": "7c97770a"
      },
      "outputs": [],
      "source": []
    },
    {
      "cell_type": "code",
      "execution_count": 33,
      "id": "3d2f0d4c",
      "metadata": {
        "id": "3d2f0d4c"
      },
      "outputs": [],
      "source": []
    },
    {
      "cell_type": "markdown",
      "id": "5109c54f",
      "metadata": {
        "id": "5109c54f"
      },
      "source": [
        "## Implementing Batch Gradient Descent"
      ]
    },
    {
      "cell_type": "code",
      "execution_count": 34,
      "id": "86e3b406",
      "metadata": {
        "id": "86e3b406"
      },
      "outputs": [],
      "source": [
        "#Lets Try Gradient Descent and check if the results match that of OLS given by Sklearn\n",
        "#initialize parameters m,b\n",
        "#initialize epochs and learning rate\n",
        "#Loss function=MSE so (y-yhat)^2/N or-> (y-(mx+b))^2/N\n",
        "#we need to find dl/dm and dl/db for the slope of both the parameters and update the values of parameters with respect to\n",
        "#the epochs such that the gradient comes closer to 0 i.e m=m-learning_rate*J(theta) Jtheta is the function of loss\n",
        "\n",
        "#For score lets implement R2 score which is LR.score()\n",
        "#R2 score=1-SSR/SST\n",
        "#SSR=(y-yhat)^2/N\n",
        "class GDRegressor:\n",
        "\n",
        "    def __init__(self,epochs,learning_rate):\n",
        "        self.epochs=epochs\n",
        "        self.lr=learning_rate\n",
        "        self.m=np.random.randint(-100,100)\n",
        "        self.b=np.random.randint(-100,100)\n",
        "        global epoch\n",
        "        epoch=self.epochs\n",
        "\n",
        "    def fit(self,X,y):\n",
        "\n",
        "        for i in range(self.epochs):\n",
        "\n",
        "            loss_slope_m = -2 * np.sum(X * (y - (self.m * X + self.b)))#dL/dm\n",
        "            loss_slope_b = -2 * np.sum(y - (self.m * X + self.b))#dL/db\n",
        "\n",
        "            self.m=self.m-(self.lr*loss_slope_m)\n",
        "            self.b=self.b-(self.lr*loss_slope_b)\n",
        "\n",
        "\n",
        "\n",
        "            #Appending all the values to plot inside a list\n",
        "            y_pred_list.append(self.predict(X))\n",
        "            m_list.append(self.m)\n",
        "            b_list.append(self.b)\n",
        "            cost_list.append(self.cost(X,y))\n",
        "\n",
        "\n",
        "\n",
        "        self.coef_=self.m\n",
        "        self.intercept_=self.b\n",
        "\n",
        "\n",
        "\n",
        "    def score(self,X,y):\n",
        "        yhat=(self.m*X)+self.b\n",
        "        SSR=np.sum((y-yhat)**2)\n",
        "        SST=np.sum((y-np.mean(y))**2)\n",
        "        return (1-(SSR/SST))\n",
        "\n",
        "    def predict(self,X):\n",
        "        return (self.m*X)+self.b\n",
        "\n",
        "    def cost(self,X,y):\n",
        "        pred=self.predict(X)\n",
        "        error=y-pred\n",
        "        return np.mean(error**2)#MSE\n",
        "\n",
        "\n",
        "\n",
        "\n",
        "\n",
        "\n",
        "\n",
        "\n",
        ""
      ]
    },
    {
      "cell_type": "code",
      "execution_count": 35,
      "id": "1a87b033",
      "metadata": {
        "id": "1a87b033"
      },
      "outputs": [],
      "source": [
        "y_pred_list=[]\n",
        "m_list=[]\n",
        "b_list=[]\n",
        "cost_list=[]"
      ]
    },
    {
      "cell_type": "code",
      "execution_count": 36,
      "id": "e56eb138",
      "metadata": {
        "id": "e56eb138"
      },
      "outputs": [],
      "source": [
        "gd=GDRegressor(epochs=15,learning_rate=0.01)\n",
        "gd.fit(X_scale,y_scale)"
      ]
    },
    {
      "cell_type": "code",
      "execution_count": 37,
      "id": "ba5e5c12",
      "metadata": {
        "colab": {
          "base_uri": "https://localhost:8080/"
        },
        "id": "ba5e5c12",
        "outputId": "676032c8-e4c2-46ab-ba4d-f3111fbd7ddc"
      },
      "outputs": [
        {
          "output_type": "execute_result",
          "data": {
            "text/plain": [
              "15"
            ]
          },
          "metadata": {},
          "execution_count": 37
        }
      ],
      "source": [
        "epoch"
      ]
    },
    {
      "cell_type": "code",
      "execution_count": 38,
      "id": "6cc184a6",
      "metadata": {
        "colab": {
          "base_uri": "https://localhost:8080/"
        },
        "id": "6cc184a6",
        "outputId": "031cba90-6158-4aee-aa71-441354329da0"
      },
      "outputs": [
        {
          "output_type": "execute_result",
          "data": {
            "text/plain": [
              "(1.2545629950016544, 3.605280996758782)"
            ]
          },
          "metadata": {},
          "execution_count": 38
        }
      ],
      "source": [
        "gd.coef_,gd.intercept_"
      ]
    },
    {
      "cell_type": "code",
      "execution_count": 39,
      "id": "52d57e8d",
      "metadata": {
        "colab": {
          "base_uri": "https://localhost:8080/"
        },
        "id": "52d57e8d",
        "outputId": "c443a221-a5fa-42e0-f749-4db1216ec4eb"
      },
      "outputs": [
        {
          "output_type": "execute_result",
          "data": {
            "text/plain": [
              "0.7084322141234733"
            ]
          },
          "metadata": {},
          "execution_count": 39
        }
      ],
      "source": [
        "gd.score(X_scale,y_scale)"
      ]
    },
    {
      "cell_type": "code",
      "execution_count": 40,
      "id": "8b02cd74",
      "metadata": {
        "colab": {
          "base_uri": "https://localhost:8080/"
        },
        "id": "8b02cd74",
        "outputId": "0ff628e2-dc69-4e44-b43e-7352c8903771"
      },
      "outputs": [
        {
          "output_type": "execute_result",
          "data": {
            "text/plain": [
              "(array([[1.25039238]]), array([3.57999648]))"
            ]
          },
          "metadata": {},
          "execution_count": 40
        }
      ],
      "source": [
        "lr3=LinearRegression()\n",
        "lr3.fit(X_scale,y_scale)\n",
        "lr3.coef_,lr3.intercept_"
      ]
    },
    {
      "cell_type": "code",
      "execution_count": 41,
      "id": "b2c18246",
      "metadata": {
        "colab": {
          "base_uri": "https://localhost:8080/"
        },
        "id": "b2c18246",
        "outputId": "25372821-93e0-4aa4-a442-2bebc4e69b50"
      },
      "outputs": [
        {
          "output_type": "execute_result",
          "data": {
            "text/plain": [
              "0.7087298981631149"
            ]
          },
          "metadata": {},
          "execution_count": 41
        }
      ],
      "source": [
        "lr3.score(X_scale,y_scale)"
      ]
    },
    {
      "cell_type": "code",
      "execution_count": 42,
      "id": "54fd77e3",
      "metadata": {
        "id": "54fd77e3"
      },
      "outputs": [],
      "source": [
        "#Close enough so this confirms how gradient descent works and how OLS works, they provide the same result but both of them\n",
        "#Have different concepts"
      ]
    },
    {
      "cell_type": "code",
      "execution_count": 43,
      "id": "4f4a4d05",
      "metadata": {
        "colab": {
          "base_uri": "https://localhost:8080/",
          "height": 688
        },
        "id": "4f4a4d05",
        "outputId": "4d4bf64f-0019-4957-e208-5ec8be433250"
      },
      "outputs": [
        {
          "output_type": "display_data",
          "data": {
            "text/plain": [
              "<Figure size 1500x800 with 4 Axes>"
            ],
            "image/png": "[encoded data removed]"
          },
          "metadata": {}
        }
      ],
      "source": [
        "import matplotlib.pyplot as plt\n",
        "from matplotlib.animation import FuncAnimation\n",
        "import matplotlib.gridspec as gridspec\n",
        "\n",
        "# Assuming X_scale, y_pred_list, m_list, b_list, and cost_list are available\n",
        "# Define other necessary variables and functions\n",
        "\n",
        "label_size = 12\n",
        "fig = plt.figure(figsize=(15,8))\n",
        "\n",
        "# Define the grid layout using gridspec\n",
        "gs = gridspec.GridSpec(2, 6, width_ratios=[1,1,1,1,1,1], height_ratios=[2,1])\n",
        "\n",
        "# Create subplots using the defined layout\n",
        "ax1 = plt.subplot(gs[0,:5])\n",
        "ax2 = plt.subplot(gs[1,:2])\n",
        "ax3 = plt.subplot(gs[1,2:4])\n",
        "ax4 = plt.subplot(gs[1,4:6])\n",
        "\n",
        "\n",
        "def update(epoch):\n",
        "    # Plot X_scale and y_pred for the current epoch in ax1\n",
        "    ax1.clear()  # Clear the previous frame\n",
        "    ax1.plot(X_scale, y_pred_list[epoch], color='red', label=f'Epoch: {epoch}')\n",
        "    ax1.scatter(X_scale, y_scale, color='b', marker='x', s=50)\n",
        "    ax1.set_title(\"Batch Gradient Descent\", fontsize=25)\n",
        "    ax1.set_xlabel(\"x\", fontsize=25, labelpad=10)\n",
        "    ax1.set_ylabel(\"y\", fontsize=25, labelpad=10)\n",
        "    ax1.tick_params(axis='both', which='major', labelsize=label_size)\n",
        "    ax1.legend(loc='upper right', fontsize=15)\n",
        "\n",
        "    # Plot m_list for the current epoch in ax2\n",
        "    ax2.clear()\n",
        "    ax2.plot(m_list[0:epoch], color='Green', linestyle='dashed', alpha=0.6)\n",
        "    ax2.set_title(f'Weights= {m_list[epoch]}', fontsize=15)\n",
        "    ax2.tick_params(axis='both', which='major', labelsize=label_size)\n",
        "\n",
        "    # Plot b_list for the current epoch in ax3\n",
        "    ax3.clear()\n",
        "    ax3.plot(b_list[0:epoch], color='blue', linestyle='dashed', alpha=0.6)\n",
        "    ax3.set_title(f'Intercept/Bias= {b_list[epoch]}', fontsize=15)\n",
        "    ax3.tick_params(axis='both', which='major', labelsize=label_size)\n",
        "\n",
        "    # Plot cost_list for the current epoch in ax4\n",
        "    ax4.clear()\n",
        "    ax4.plot(cost_list[0:epoch], color='orange', linestyle='dashed', alpha=0.6)\n",
        "    ax4.set_title(f'Cost Function(MSE)= {cost_list[epoch]}', fontsize=15)\n",
        "    ax4.tick_params(axis='both', which='major', labelsize=label_size)\n",
        "\n",
        "    plt.tight_layout()\n",
        "\n",
        "# Number of epochsepochal\n",
        "num_epochs = len(y_pred_list)\n",
        "\n",
        "# Create the animation\n",
        "animation = FuncAnimation(fig, update, frames=num_epochs, repeat=False,interval=1000)\n",
        "\n",
        "animation_writer = 'pillow'\n",
        "\n",
        "# Save the animation as a GIF\n",
        "animation.save('GDR_animation3.gif', writer=animation_writer)\n"
      ]
    },
    {
      "cell_type": "code",
      "execution_count": 43,
      "id": "88310852",
      "metadata": {
        "id": "88310852"
      },
      "outputs": [],
      "source": []
    },
    {
      "cell_type": "code",
      "execution_count": 43,
      "id": "7c02b394",
      "metadata": {
        "id": "7c02b394"
      },
      "outputs": [],
      "source": []
    },
    {
      "cell_type": "code",
      "execution_count": 43,
      "id": "d22af16e",
      "metadata": {
        "id": "d22af16e"
      },
      "outputs": [],
      "source": []
    },
    {
      "cell_type": "code",
      "execution_count": 43,
      "id": "ca71351f",
      "metadata": {
        "id": "ca71351f"
      },
      "outputs": [],
      "source": []
    },
    {
      "cell_type": "code",
      "execution_count": 62,
      "id": "79e1d740",
      "metadata": {
        "colab": {
          "base_uri": "https://localhost:8080/"
        },
        "id": "79e1d740",
        "outputId": "e7f5fd50-47d3-4308-e3e8-d4827e234466"
      },
      "outputs": [
        {
          "output_type": "execute_result",
          "data": {
            "text/plain": [
              "15"
            ]
          },
          "metadata": {},
          "execution_count": 62
        }
      ],
      "source": [
        "len(y_pred_list)"
      ]
    },
    {
      "cell_type": "code",
      "execution_count": 44,
      "id": "8ea46e07",
      "metadata": {
        "id": "8ea46e07"
      },
      "outputs": [],
      "source": []
    },
    {
      "cell_type": "code",
      "execution_count": 44,
      "id": "35240c5b",
      "metadata": {
        "scrolled": true,
        "id": "35240c5b"
      },
      "outputs": [],
      "source": []
    },
    {
      "cell_type": "code",
      "execution_count": 44,
      "id": "7310839d",
      "metadata": {
        "id": "7310839d"
      },
      "outputs": [],
      "source": []
    },
    {
      "cell_type": "code",
      "execution_count": 45,
      "id": "477c186e",
      "metadata": {
        "id": "477c186e"
      },
      "outputs": [],
      "source": [
        "# y_pred_list"
      ]
    },
    {
      "cell_type": "code",
      "execution_count": 46,
      "id": "03494887",
      "metadata": {
        "colab": {
          "base_uri": "https://localhost:8080/"
        },
        "id": "03494887",
        "outputId": "e2eb24fb-06e3-4c53-9fd0-6776c49f975b"
      },
      "outputs": [
        {
          "output_type": "execute_result",
          "data": {
            "text/plain": [
              "array([ 1, 11, 21, 31, 41, 51, 61, 71, 81, 91])"
            ]
          },
          "metadata": {},
          "execution_count": 46
        }
      ],
      "source": [
        "# np.arange(1,100,10)"
      ]
    },
    {
      "cell_type": "code",
      "execution_count": 49,
      "id": "d8126312",
      "metadata": {
        "id": "d8126312"
      },
      "outputs": [],
      "source": [
        "# m_list"
      ]
    },
    {
      "cell_type": "code",
      "execution_count": 50,
      "id": "4505110b",
      "metadata": {
        "id": "4505110b"
      },
      "outputs": [],
      "source": [
        "# (np.arange(1,z+1))"
      ]
    },
    {
      "cell_type": "code",
      "execution_count": 51,
      "id": "9f5bb757",
      "metadata": {
        "id": "9f5bb757"
      },
      "outputs": [],
      "source": [
        "# X_scale"
      ]
    },
    {
      "cell_type": "code",
      "execution_count": 52,
      "id": "a574fe27",
      "metadata": {
        "id": "a574fe27"
      },
      "outputs": [],
      "source": [
        "# y_pred_list[1]"
      ]
    },
    {
      "cell_type": "code",
      "execution_count": 53,
      "id": "aa4ecf1e",
      "metadata": {
        "id": "aa4ecf1e"
      },
      "outputs": [],
      "source": [
        "# plt.scatter(X_scale,y_scale)\n",
        "# plt.plot(X_scale.flatten(),y_pred_list[2000])"
      ]
    },
    {
      "cell_type": "code",
      "execution_count": 54,
      "id": "dd527a20",
      "metadata": {
        "id": "dd527a20"
      },
      "outputs": [],
      "source": [
        "# y_pred_list[1]"
      ]
    },
    {
      "cell_type": "code",
      "execution_count": 55,
      "id": "22195140",
      "metadata": {
        "id": "22195140"
      },
      "outputs": [],
      "source": [
        "# y_pred_list[23]"
      ]
    },
    {
      "cell_type": "code",
      "execution_count": 56,
      "id": "7a1bc2e4",
      "metadata": {
        "id": "7a1bc2e4"
      },
      "outputs": [],
      "source": [
        "# plt.plot(m_list)"
      ]
    },
    {
      "cell_type": "code",
      "execution_count": 56,
      "id": "c10336cc",
      "metadata": {
        "id": "c10336cc"
      },
      "outputs": [],
      "source": []
    },
    {
      "cell_type": "code",
      "execution_count": 66,
      "id": "7349a1b9",
      "metadata": {
        "colab": {
          "base_uri": "https://localhost:8080/",
          "height": 763
        },
        "id": "7349a1b9",
        "outputId": "7554bea1-666f-454f-e509-6a42b0fca536"
      },
      "outputs": [
        {
          "output_type": "display_data",
          "data": {
            "text/plain": [
              "<Figure size 1000x800 with 1 Axes>"
            ],
            "image/png": "[encoded data removed]"
          },
          "metadata": {}
        }
      ],
      "source": [
        "\n",
        "\n",
        "\n",
        "label_size = 12\n",
        "fig, ax = plt.subplots(figsize=(10, 8))\n",
        "\n",
        "def update(epoch):\n",
        "    ax.clear()  # Clear the previous frame\n",
        "\n",
        "    # Plot X_scale and y_pred for the current epoch\n",
        "    ax.plot(X_scale, y_pred_list[epoch], color='red', label=f'Epoch: {epoch}')\n",
        "    ax.vlines(X_scale, y_scale, ymax=y_pred_list[epoch], linestyle=\"dashed\",\n",
        "               color='r',alpha=0.3)\n",
        "    ax.scatter(X_scale, y_scale, color='b', marker='x', s=50)\n",
        "\n",
        "\n",
        "    ax.set_title(\"Linear fit\", fontsize=25)\n",
        "    ax.set_xlabel(\"x\", fontsize=25, labelpad=10)\n",
        "    ax.set_ylabel(\"y\", fontsize=25, labelpad=10)\n",
        "    ax.tick_params(axis='both', which='major', labelsize=label_size)\n",
        "    ax.legend(loc='upper right', fontsize=15)\n",
        "\n",
        "# Number of epochs\n",
        "num_epochs = len(y_pred_list)\n",
        "\n",
        "# Create the animation\n",
        "animation = FuncAnimation(fig, update, frames=num_epochs, repeat=False)\n",
        "\n",
        "\n",
        "animation_writer = 'pillow'\n",
        "animation.save('linear_fit_animation.gif', writer=animation_writer, fps=60)\n"
      ]
    },
    {
      "cell_type": "code",
      "execution_count": 57,
      "id": "193902f3",
      "metadata": {
        "id": "193902f3"
      },
      "outputs": [],
      "source": []
    },
    {
      "cell_type": "code",
      "execution_count": 58,
      "id": "9bc6b651",
      "metadata": {
        "id": "9bc6b651"
      },
      "outputs": [],
      "source": [
        "# cost_list[0:2]"
      ]
    },
    {
      "cell_type": "code",
      "execution_count": 59,
      "id": "16277180",
      "metadata": {
        "id": "16277180"
      },
      "outputs": [],
      "source": [
        "# m_list"
      ]
    },
    {
      "cell_type": "code",
      "execution_count": 60,
      "id": "f6ae3da8",
      "metadata": {
        "id": "f6ae3da8"
      },
      "outputs": [],
      "source": [
        "# b_list"
      ]
    },
    {
      "cell_type": "code",
      "execution_count": 61,
      "id": "385c5b2d",
      "metadata": {
        "id": "385c5b2d"
      },
      "outputs": [],
      "source": [
        "# cost_list"
      ]
    },
    {
      "cell_type": "code",
      "execution_count": null,
      "id": "c2e3d7be",
      "metadata": {
        "id": "c2e3d7be"
      },
      "outputs": [],
      "source": []
    }
  ],
  "metadata": {
    "kernelspec": {
      "display_name": "Python 3",
      "name": "python3"
    },
    "language_info": {
      "codemirror_mode": {
        "name": "ipython",
        "version": 3
      },
      "file_extension": ".py",
      "mimetype": "text/x-python",
      "name": "python",
      "nbconvert_exporter": "python",
      "pygments_lexer": "ipython3",
      "version": "3.9.5"
    },
    "colab": {
      "provenance": []
    }
  },
  "nbformat": 4,
  "nbformat_minor": 5
}