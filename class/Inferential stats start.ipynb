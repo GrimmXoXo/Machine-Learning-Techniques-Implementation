{
 "cells": [
  {
   "cell_type": "code",
   "execution_count": 1,
   "id": "c2beff87",
   "metadata": {},
   "outputs": [],
   "source": [
    "import numpy as np\n",
    "import pandas as pd\n",
    "import scipy.stats as st"
   ]
  },
  {
   "cell_type": "code",
   "execution_count": 2,
   "id": "44a1dc46",
   "metadata": {},
   "outputs": [],
   "source": [
    "glaxo_df=pd.read_csv(\"glaxo_df.csv\")\n"
   ]
  },
  {
   "cell_type": "code",
   "execution_count": 4,
   "id": "8ca54e67",
   "metadata": {},
   "outputs": [
    {
     "data": {
      "text/html": [
       "<div>\n",
       "<style scoped>\n",
       "    .dataframe tbody tr th:only-of-type {\n",
       "        vertical-align: middle;\n",
       "    }\n",
       "\n",
       "    .dataframe tbody tr th {\n",
       "        vertical-align: top;\n",
       "    }\n",
       "\n",
       "    .dataframe thead th {\n",
       "        text-align: right;\n",
       "    }\n",
       "</style>\n",
       "<table border=\"1\" class=\"dataframe\">\n",
       "  <thead>\n",
       "    <tr style=\"text-align: right;\">\n",
       "      <th></th>\n",
       "      <th>Date</th>\n",
       "      <th>Date.1</th>\n",
       "      <th>Close</th>\n",
       "      <th>gain</th>\n",
       "    </tr>\n",
       "  </thead>\n",
       "  <tbody>\n",
       "    <tr>\n",
       "      <th>0</th>\n",
       "      <td>2010-01-05</td>\n",
       "      <td>2010-01-05</td>\n",
       "      <td>1616.80</td>\n",
       "      <td>-0.005444</td>\n",
       "    </tr>\n",
       "    <tr>\n",
       "      <th>1</th>\n",
       "      <td>2010-01-06</td>\n",
       "      <td>2010-01-06</td>\n",
       "      <td>1638.50</td>\n",
       "      <td>0.013422</td>\n",
       "    </tr>\n",
       "    <tr>\n",
       "      <th>2</th>\n",
       "      <td>2010-01-07</td>\n",
       "      <td>2010-01-07</td>\n",
       "      <td>1648.70</td>\n",
       "      <td>0.006225</td>\n",
       "    </tr>\n",
       "    <tr>\n",
       "      <th>3</th>\n",
       "      <td>2010-01-08</td>\n",
       "      <td>2010-01-08</td>\n",
       "      <td>1639.80</td>\n",
       "      <td>-0.005398</td>\n",
       "    </tr>\n",
       "    <tr>\n",
       "      <th>4</th>\n",
       "      <td>2010-01-11</td>\n",
       "      <td>2010-01-11</td>\n",
       "      <td>1629.45</td>\n",
       "      <td>-0.006312</td>\n",
       "    </tr>\n",
       "    <tr>\n",
       "      <th>...</th>\n",
       "      <td>...</td>\n",
       "      <td>...</td>\n",
       "      <td>...</td>\n",
       "      <td>...</td>\n",
       "    </tr>\n",
       "    <tr>\n",
       "      <th>1733</th>\n",
       "      <td>2016-12-26</td>\n",
       "      <td>2016-12-26</td>\n",
       "      <td>2723.50</td>\n",
       "      <td>-0.001283</td>\n",
       "    </tr>\n",
       "    <tr>\n",
       "      <th>1734</th>\n",
       "      <td>2016-12-27</td>\n",
       "      <td>2016-12-27</td>\n",
       "      <td>2701.75</td>\n",
       "      <td>-0.007986</td>\n",
       "    </tr>\n",
       "    <tr>\n",
       "      <th>1735</th>\n",
       "      <td>2016-12-28</td>\n",
       "      <td>2016-12-28</td>\n",
       "      <td>2702.15</td>\n",
       "      <td>0.000148</td>\n",
       "    </tr>\n",
       "    <tr>\n",
       "      <th>1736</th>\n",
       "      <td>2016-12-29</td>\n",
       "      <td>2016-12-29</td>\n",
       "      <td>2727.90</td>\n",
       "      <td>0.009529</td>\n",
       "    </tr>\n",
       "    <tr>\n",
       "      <th>1737</th>\n",
       "      <td>2016-12-30</td>\n",
       "      <td>2016-12-30</td>\n",
       "      <td>2729.80</td>\n",
       "      <td>0.000697</td>\n",
       "    </tr>\n",
       "  </tbody>\n",
       "</table>\n",
       "<p>1738 rows × 4 columns</p>\n",
       "</div>"
      ],
      "text/plain": [
       "            Date      Date.1    Close      gain\n",
       "0     2010-01-05  2010-01-05  1616.80 -0.005444\n",
       "1     2010-01-06  2010-01-06  1638.50  0.013422\n",
       "2     2010-01-07  2010-01-07  1648.70  0.006225\n",
       "3     2010-01-08  2010-01-08  1639.80 -0.005398\n",
       "4     2010-01-11  2010-01-11  1629.45 -0.006312\n",
       "...          ...         ...      ...       ...\n",
       "1733  2016-12-26  2016-12-26  2723.50 -0.001283\n",
       "1734  2016-12-27  2016-12-27  2701.75 -0.007986\n",
       "1735  2016-12-28  2016-12-28  2702.15  0.000148\n",
       "1736  2016-12-29  2016-12-29  2727.90  0.009529\n",
       "1737  2016-12-30  2016-12-30  2729.80  0.000697\n",
       "\n",
       "[1738 rows x 4 columns]"
      ]
     },
     "execution_count": 4,
     "metadata": {},
     "output_type": "execute_result"
    }
   ],
   "source": [
    "glaxo_df"
   ]
  },
  {
   "cell_type": "code",
   "execution_count": 6,
   "id": "a53582f4",
   "metadata": {},
   "outputs": [
    {
     "name": "stdout",
     "output_type": "stream",
     "text": [
      "<class 'pandas.core.frame.DataFrame'>\n",
      "RangeIndex: 1738 entries, 0 to 1737\n",
      "Data columns (total 4 columns):\n",
      " #   Column  Non-Null Count  Dtype  \n",
      "---  ------  --------------  -----  \n",
      " 0   Date    1738 non-null   object \n",
      " 1   Date.1  1738 non-null   object \n",
      " 2   Close   1738 non-null   float64\n",
      " 3   gain    1738 non-null   float64\n",
      "dtypes: float64(2), object(2)\n",
      "memory usage: 54.4+ KB\n"
     ]
    }
   ],
   "source": [
    "glaxo_df.info()"
   ]
  },
  {
   "cell_type": "code",
   "execution_count": 7,
   "id": "48559bf7",
   "metadata": {},
   "outputs": [
    {
     "data": {
      "text/html": [
       "<div>\n",
       "<style scoped>\n",
       "    .dataframe tbody tr th:only-of-type {\n",
       "        vertical-align: middle;\n",
       "    }\n",
       "\n",
       "    .dataframe tbody tr th {\n",
       "        vertical-align: top;\n",
       "    }\n",
       "\n",
       "    .dataframe thead th {\n",
       "        text-align: right;\n",
       "    }\n",
       "</style>\n",
       "<table border=\"1\" class=\"dataframe\">\n",
       "  <thead>\n",
       "    <tr style=\"text-align: right;\">\n",
       "      <th></th>\n",
       "      <th>Close</th>\n",
       "      <th>gain</th>\n",
       "    </tr>\n",
       "  </thead>\n",
       "  <tbody>\n",
       "    <tr>\n",
       "      <th>count</th>\n",
       "      <td>1738.000000</td>\n",
       "      <td>1738.000000</td>\n",
       "    </tr>\n",
       "    <tr>\n",
       "      <th>mean</th>\n",
       "      <td>2533.153596</td>\n",
       "      <td>0.000386</td>\n",
       "    </tr>\n",
       "    <tr>\n",
       "      <th>std</th>\n",
       "      <td>540.441532</td>\n",
       "      <td>0.013361</td>\n",
       "    </tr>\n",
       "    <tr>\n",
       "      <th>min</th>\n",
       "      <td>1514.300000</td>\n",
       "      <td>-0.074719</td>\n",
       "    </tr>\n",
       "    <tr>\n",
       "      <th>25%</th>\n",
       "      <td>2096.987500</td>\n",
       "      <td>-0.005850</td>\n",
       "    </tr>\n",
       "    <tr>\n",
       "      <th>50%</th>\n",
       "      <td>2365.700000</td>\n",
       "      <td>-0.000021</td>\n",
       "    </tr>\n",
       "    <tr>\n",
       "      <th>75%</th>\n",
       "      <td>3010.562500</td>\n",
       "      <td>0.005826</td>\n",
       "    </tr>\n",
       "    <tr>\n",
       "      <th>max</th>\n",
       "      <td>3814.750000</td>\n",
       "      <td>0.189196</td>\n",
       "    </tr>\n",
       "  </tbody>\n",
       "</table>\n",
       "</div>"
      ],
      "text/plain": [
       "             Close         gain\n",
       "count  1738.000000  1738.000000\n",
       "mean   2533.153596     0.000386\n",
       "std     540.441532     0.013361\n",
       "min    1514.300000    -0.074719\n",
       "25%    2096.987500    -0.005850\n",
       "50%    2365.700000    -0.000021\n",
       "75%    3010.562500     0.005826\n",
       "max    3814.750000     0.189196"
      ]
     },
     "execution_count": 7,
     "metadata": {},
     "output_type": "execute_result"
    }
   ],
   "source": []
  },
  {
   "cell_type": "code",
   "execution_count": 8,
   "id": "20ee7962",
   "metadata": {},
   "outputs": [],
   "source": [
    "glaxo_df_ci=st.norm.interval(0.95,loc=glaxo_df.gain.mean(),scale=glaxo_df.gain.std())"
   ]
  },
  {
   "cell_type": "code",
   "execution_count": 9,
   "id": "1b649ef1",
   "metadata": {},
   "outputs": [
    {
     "data": {
      "text/plain": [
       "(-0.025800133293883098, 0.026572215459067686)"
      ]
     },
     "execution_count": 9,
     "metadata": {},
     "output_type": "execute_result"
    }
   ],
   "source": [
    "glaxo_df_ci"
   ]
  },
  {
   "cell_type": "code",
   "execution_count": 17,
   "id": "597f119e",
   "metadata": {},
   "outputs": [
    {
     "data": {
      "text/plain": [
       "0.00038604108259229303"
      ]
     },
     "execution_count": 17,
     "metadata": {},
     "output_type": "execute_result"
    }
   ],
   "source": [
    "glaxo_df.gain.mean()"
   ]
  },
  {
   "cell_type": "markdown",
   "id": "c0be7f8a",
   "metadata": {},
   "source": [
    "## "
   ]
  },
  {
   "cell_type": "code",
   "execution_count": 12,
   "id": "89104363",
   "metadata": {},
   "outputs": [
    {
     "name": "stdout",
     "output_type": "stream",
     "text": [
      "the value of mean and stf is : [-0.0258  0.0266]\n"
     ]
    }
   ],
   "source": [
    "print(f\"the value of mean and stf is : {np.round(glaxo_df_ci,4)}\")"
   ]
  },
  {
   "cell_type": "code",
   "execution_count": 13,
   "id": "308c9d5f",
   "metadata": {},
   "outputs": [],
   "source": [
    "beml_df=pd.read_csv(\"beml_df.csv\")"
   ]
  },
  {
   "cell_type": "code",
   "execution_count": 14,
   "id": "419e09fb",
   "metadata": {},
   "outputs": [],
   "source": [
    "beml_df_ci=st.norm.interval(0.95,loc=beml_df.gain.mean(),scale=beml_df.gain.std())\n"
   ]
  },
  {
   "cell_type": "code",
   "execution_count": 16,
   "id": "3aa2a8a4",
   "metadata": {},
   "outputs": [
    {
     "name": "stdout",
     "output_type": "stream",
     "text": [
      "the confidence for the interval [-0.0515  0.0521]\n"
     ]
    }
   ],
   "source": [
    "print(f\"the confidence for the interval {np.round(beml_df_ci,4)}\")"
   ]
  },
  {
   "cell_type": "code",
   "execution_count": 1,
   "id": "0d8f266e",
   "metadata": {},
   "outputs": [],
   "source": [
    "#the confidence interval of glaxo vs beml, we see that glaxo has less variance in its range so its less risky than beml. bv"
   ]
  },
  {
   "cell_type": "code",
   "execution_count": null,
   "id": "e0eed966",
   "metadata": {},
   "outputs": [],
   "source": []
  }
 ],
 "metadata": {
  "kernelspec": {
   "display_name": "Python 3 (ipykernel)",
   "language": "python",
   "name": "python3"
  },
  "language_info": {
   "codemirror_mode": {
    "name": "ipython",
    "version": 3
   },
   "file_extension": ".py",
   "mimetype": "text/x-python",
   "name": "python",
   "nbconvert_exporter": "python",
   "pygments_lexer": "ipython3",
   "version": "3.9.5"
  }
 },
 "nbformat": 4,
 "nbformat_minor": 5
}
