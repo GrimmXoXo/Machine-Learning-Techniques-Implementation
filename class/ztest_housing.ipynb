{
 "cells": [
  {
   "cell_type": "code",
   "execution_count": 14,
   "id": "427008c7",
   "metadata": {},
   "outputs": [
    {
     "ename": "ImportError",
     "evalue": "cannot import name 'statsmodel' from 'scipy' (c:\\users\\gm\\appdata\\local\\programs\\python\\python39\\lib\\site-packages\\scipy\\__init__.py)",
     "output_type": "error",
     "traceback": [
      "\u001b[1;31m---------------------------------------------------------------------------\u001b[0m",
      "\u001b[1;31mImportError\u001b[0m                               Traceback (most recent call last)",
      "\u001b[1;32m~\\AppData\\Local\\Temp/ipykernel_110648/3328625955.py\u001b[0m in \u001b[0;36m<module>\u001b[1;34m\u001b[0m\n\u001b[0;32m      1\u001b[0m \u001b[1;32mimport\u001b[0m \u001b[0mnumpy\u001b[0m \u001b[1;32mas\u001b[0m \u001b[0mnp\u001b[0m\u001b[1;33m\u001b[0m\u001b[1;33m\u001b[0m\u001b[0m\n\u001b[0;32m      2\u001b[0m \u001b[1;32mimport\u001b[0m \u001b[0mpandas\u001b[0m \u001b[1;32mas\u001b[0m \u001b[0mpd\u001b[0m\u001b[1;33m\u001b[0m\u001b[1;33m\u001b[0m\u001b[0m\n\u001b[1;32m----> 3\u001b[1;33m \u001b[1;32mfrom\u001b[0m \u001b[0mscipy\u001b[0m \u001b[1;32mimport\u001b[0m \u001b[0mstats\u001b[0m\u001b[1;33m,\u001b[0m\u001b[0mstatsmodel\u001b[0m\u001b[1;33m\u001b[0m\u001b[1;33m\u001b[0m\u001b[0m\n\u001b[0m\u001b[0;32m      4\u001b[0m \u001b[1;32mimport\u001b[0m \u001b[0mmath\u001b[0m\u001b[1;33m\u001b[0m\u001b[1;33m\u001b[0m\u001b[0m\n\u001b[0;32m      5\u001b[0m \u001b[1;32mimport\u001b[0m \u001b[0mmatplotlib\u001b[0m\u001b[1;33m.\u001b[0m\u001b[0mpyplot\u001b[0m \u001b[1;32mas\u001b[0m \u001b[0mplt\u001b[0m\u001b[1;33m\u001b[0m\u001b[1;33m\u001b[0m\u001b[0m\n",
      "\u001b[1;31mImportError\u001b[0m: cannot import name 'statsmodel' from 'scipy' (c:\\users\\gm\\appdata\\local\\programs\\python\\python39\\lib\\site-packages\\scipy\\__init__.py)"
     ]
    }
   ],
   "source": [
    "import numpy as np\n",
    "import pandas as pd\n",
    "from scipy import stats,statsmodel\n",
    "import math\n",
    "import matplotlib.pyplot as plt"
   ]
  },
  {
   "cell_type": "code",
   "execution_count": 3,
   "id": "d8f202d8",
   "metadata": {},
   "outputs": [],
   "source": [
    "data=pd.read_csv('infer_stats.csv')\n",
    "#Our job is to apply ztest on the table"
   ]
  },
  {
   "cell_type": "code",
   "execution_count": 4,
   "id": "2f334c12",
   "metadata": {},
   "outputs": [
    {
     "data": {
      "text/html": [
       "<div>\n",
       "<style scoped>\n",
       "    .dataframe tbody tr th:only-of-type {\n",
       "        vertical-align: middle;\n",
       "    }\n",
       "\n",
       "    .dataframe tbody tr th {\n",
       "        vertical-align: top;\n",
       "    }\n",
       "\n",
       "    .dataframe thead th {\n",
       "        text-align: right;\n",
       "    }\n",
       "</style>\n",
       "<table border=\"1\" class=\"dataframe\">\n",
       "  <thead>\n",
       "    <tr style=\"text-align: right;\">\n",
       "      <th></th>\n",
       "      <th>Order</th>\n",
       "      <th>PID</th>\n",
       "      <th>MS.SubClass</th>\n",
       "      <th>MS.Zoning</th>\n",
       "      <th>Lot.Frontage</th>\n",
       "      <th>Lot.Area</th>\n",
       "      <th>Street</th>\n",
       "      <th>Alley</th>\n",
       "      <th>Lot.Shape</th>\n",
       "      <th>Land.Contour</th>\n",
       "      <th>...</th>\n",
       "      <th>Pool.Area</th>\n",
       "      <th>Pool.QC</th>\n",
       "      <th>Fence</th>\n",
       "      <th>Misc.Feature</th>\n",
       "      <th>Misc.Val</th>\n",
       "      <th>Mo.Sold</th>\n",
       "      <th>Yr.Sold</th>\n",
       "      <th>Sale.Type</th>\n",
       "      <th>Sale.Condition</th>\n",
       "      <th>SalePrice</th>\n",
       "    </tr>\n",
       "  </thead>\n",
       "  <tbody>\n",
       "    <tr>\n",
       "      <th>2925</th>\n",
       "      <td>2926</td>\n",
       "      <td>923275080</td>\n",
       "      <td>80</td>\n",
       "      <td>RL</td>\n",
       "      <td>37.0</td>\n",
       "      <td>7937</td>\n",
       "      <td>Pave</td>\n",
       "      <td>NaN</td>\n",
       "      <td>IR1</td>\n",
       "      <td>Lvl</td>\n",
       "      <td>...</td>\n",
       "      <td>0</td>\n",
       "      <td>NaN</td>\n",
       "      <td>GdPrv</td>\n",
       "      <td>NaN</td>\n",
       "      <td>0</td>\n",
       "      <td>3</td>\n",
       "      <td>2006</td>\n",
       "      <td>WD</td>\n",
       "      <td>Normal</td>\n",
       "      <td>142500</td>\n",
       "    </tr>\n",
       "    <tr>\n",
       "      <th>2926</th>\n",
       "      <td>2927</td>\n",
       "      <td>923276100</td>\n",
       "      <td>20</td>\n",
       "      <td>RL</td>\n",
       "      <td>NaN</td>\n",
       "      <td>8885</td>\n",
       "      <td>Pave</td>\n",
       "      <td>NaN</td>\n",
       "      <td>IR1</td>\n",
       "      <td>Low</td>\n",
       "      <td>...</td>\n",
       "      <td>0</td>\n",
       "      <td>NaN</td>\n",
       "      <td>MnPrv</td>\n",
       "      <td>NaN</td>\n",
       "      <td>0</td>\n",
       "      <td>6</td>\n",
       "      <td>2006</td>\n",
       "      <td>WD</td>\n",
       "      <td>Normal</td>\n",
       "      <td>131000</td>\n",
       "    </tr>\n",
       "    <tr>\n",
       "      <th>2927</th>\n",
       "      <td>2928</td>\n",
       "      <td>923400125</td>\n",
       "      <td>85</td>\n",
       "      <td>RL</td>\n",
       "      <td>62.0</td>\n",
       "      <td>10441</td>\n",
       "      <td>Pave</td>\n",
       "      <td>NaN</td>\n",
       "      <td>Reg</td>\n",
       "      <td>Lvl</td>\n",
       "      <td>...</td>\n",
       "      <td>0</td>\n",
       "      <td>NaN</td>\n",
       "      <td>MnPrv</td>\n",
       "      <td>Shed</td>\n",
       "      <td>700</td>\n",
       "      <td>7</td>\n",
       "      <td>2006</td>\n",
       "      <td>WD</td>\n",
       "      <td>Normal</td>\n",
       "      <td>132000</td>\n",
       "    </tr>\n",
       "    <tr>\n",
       "      <th>2928</th>\n",
       "      <td>2929</td>\n",
       "      <td>924100070</td>\n",
       "      <td>20</td>\n",
       "      <td>RL</td>\n",
       "      <td>77.0</td>\n",
       "      <td>10010</td>\n",
       "      <td>Pave</td>\n",
       "      <td>NaN</td>\n",
       "      <td>Reg</td>\n",
       "      <td>Lvl</td>\n",
       "      <td>...</td>\n",
       "      <td>0</td>\n",
       "      <td>NaN</td>\n",
       "      <td>NaN</td>\n",
       "      <td>NaN</td>\n",
       "      <td>0</td>\n",
       "      <td>4</td>\n",
       "      <td>2006</td>\n",
       "      <td>WD</td>\n",
       "      <td>Normal</td>\n",
       "      <td>170000</td>\n",
       "    </tr>\n",
       "    <tr>\n",
       "      <th>2929</th>\n",
       "      <td>2930</td>\n",
       "      <td>924151050</td>\n",
       "      <td>60</td>\n",
       "      <td>RL</td>\n",
       "      <td>74.0</td>\n",
       "      <td>9627</td>\n",
       "      <td>Pave</td>\n",
       "      <td>NaN</td>\n",
       "      <td>Reg</td>\n",
       "      <td>Lvl</td>\n",
       "      <td>...</td>\n",
       "      <td>0</td>\n",
       "      <td>NaN</td>\n",
       "      <td>NaN</td>\n",
       "      <td>NaN</td>\n",
       "      <td>0</td>\n",
       "      <td>11</td>\n",
       "      <td>2006</td>\n",
       "      <td>WD</td>\n",
       "      <td>Normal</td>\n",
       "      <td>188000</td>\n",
       "    </tr>\n",
       "  </tbody>\n",
       "</table>\n",
       "<p>5 rows × 82 columns</p>\n",
       "</div>"
      ],
      "text/plain": [
       "      Order        PID  MS.SubClass MS.Zoning  Lot.Frontage  Lot.Area Street  \\\n",
       "2925   2926  923275080           80        RL          37.0      7937   Pave   \n",
       "2926   2927  923276100           20        RL           NaN      8885   Pave   \n",
       "2927   2928  923400125           85        RL          62.0     10441   Pave   \n",
       "2928   2929  924100070           20        RL          77.0     10010   Pave   \n",
       "2929   2930  924151050           60        RL          74.0      9627   Pave   \n",
       "\n",
       "     Alley Lot.Shape Land.Contour  ... Pool.Area Pool.QC  Fence Misc.Feature  \\\n",
       "2925   NaN       IR1          Lvl  ...         0     NaN  GdPrv          NaN   \n",
       "2926   NaN       IR1          Low  ...         0     NaN  MnPrv          NaN   \n",
       "2927   NaN       Reg          Lvl  ...         0     NaN  MnPrv         Shed   \n",
       "2928   NaN       Reg          Lvl  ...         0     NaN    NaN          NaN   \n",
       "2929   NaN       Reg          Lvl  ...         0     NaN    NaN          NaN   \n",
       "\n",
       "     Misc.Val Mo.Sold Yr.Sold Sale.Type  Sale.Condition  SalePrice  \n",
       "2925        0       3    2006       WD           Normal     142500  \n",
       "2926        0       6    2006       WD           Normal     131000  \n",
       "2927      700       7    2006       WD           Normal     132000  \n",
       "2928        0       4    2006       WD           Normal     170000  \n",
       "2929        0      11    2006       WD           Normal     188000  \n",
       "\n",
       "[5 rows x 82 columns]"
      ]
     },
     "execution_count": 4,
     "metadata": {},
     "output_type": "execute_result"
    }
   ],
   "source": [
    "data.tail()"
   ]
  },
  {
   "cell_type": "code",
   "execution_count": 6,
   "id": "c4526205",
   "metadata": {},
   "outputs": [
    {
     "data": {
      "text/plain": [
       "(2930, 82)"
      ]
     },
     "execution_count": 6,
     "metadata": {},
     "output_type": "execute_result"
    }
   ],
   "source": [
    "data.shape"
   ]
  },
  {
   "cell_type": "code",
   "execution_count": 51,
   "id": "437b08da",
   "metadata": {},
   "outputs": [
    {
     "ename": "ImportError",
     "evalue": "cannot import name 'ttest' from 'statsmodels.stats.weightstats' (c:\\users\\gm\\appdata\\local\\programs\\python\\python39\\lib\\site-packages\\statsmodels\\stats\\weightstats.py)",
     "output_type": "error",
     "traceback": [
      "\u001b[1;31m---------------------------------------------------------------------------\u001b[0m",
      "\u001b[1;31mImportError\u001b[0m                               Traceback (most recent call last)",
      "\u001b[1;32m~\\AppData\\Local\\Temp/ipykernel_110648/33374197.py\u001b[0m in \u001b[0;36m<module>\u001b[1;34m\u001b[0m\n\u001b[1;32m----> 1\u001b[1;33m \u001b[1;32mfrom\u001b[0m \u001b[0mstatsmodels\u001b[0m\u001b[1;33m.\u001b[0m\u001b[0mstats\u001b[0m\u001b[1;33m.\u001b[0m\u001b[0mweightstats\u001b[0m \u001b[1;32mimport\u001b[0m \u001b[0mztest\u001b[0m\u001b[1;33m,\u001b[0m\u001b[0mttest\u001b[0m\u001b[1;33m\u001b[0m\u001b[1;33m\u001b[0m\u001b[0m\n\u001b[0m",
      "\u001b[1;31mImportError\u001b[0m: cannot import name 'ttest' from 'statsmodels.stats.weightstats' (c:\\users\\gm\\appdata\\local\\programs\\python\\python39\\lib\\site-packages\\statsmodels\\stats\\weightstats.py)"
     ]
    }
   ],
   "source": [
    "from statsmodels.stats.weightstats import ztest,ttest"
   ]
  },
  {
   "cell_type": "code",
   "execution_count": 36,
   "id": "2cdd6a12",
   "metadata": {},
   "outputs": [],
   "source": [
    "z_statistics,p_value=ztest(data.SalePrice,value=175000)"
   ]
  },
  {
   "cell_type": "code",
   "execution_count": 37,
   "id": "b585a505",
   "metadata": {},
   "outputs": [
    {
     "data": {
      "text/plain": [
       "3.9272834547730024"
      ]
     },
     "execution_count": 37,
     "metadata": {},
     "output_type": "execute_result"
    }
   ],
   "source": [
    "z_statistics"
   ]
  },
  {
   "cell_type": "code",
   "execution_count": 38,
   "id": "35456fbd",
   "metadata": {},
   "outputs": [
    {
     "data": {
      "text/plain": [
       "8.591071063153728e-05"
      ]
     },
     "execution_count": 38,
     "metadata": {},
     "output_type": "execute_result"
    }
   ],
   "source": [
    "p_value"
   ]
  },
  {
   "cell_type": "code",
   "execution_count": 39,
   "id": "16f6d141",
   "metadata": {},
   "outputs": [
    {
     "data": {
      "text/plain": [
       "True"
      ]
     },
     "execution_count": 39,
     "metadata": {},
     "output_type": "execute_result"
    }
   ],
   "source": [
    "0.05>p_value #as the value is less than 0.05 or 5% we can say that the Null assumption is false"
   ]
  },
  {
   "cell_type": "code",
   "execution_count": 40,
   "id": "1f40b7ad",
   "metadata": {},
   "outputs": [],
   "source": [
    "#now the thing here is that when the value is rejected by p value we can do another test to determine whether the value is \n",
    "#Greater or smaller than than the assumed value\n",
    "#1 sided assumption"
   ]
  },
  {
   "cell_type": "code",
   "execution_count": 43,
   "id": "028b9e1c",
   "metadata": {},
   "outputs": [],
   "source": [
    "z1_statistics,p1_value=ztest(data.SalePrice,value=175000,alternative=\"larger\")\n",
    "\n",
    "#Null Hypothesis-> <175000\n",
    "#Alternate Hypothesis-> >175000"
   ]
  },
  {
   "cell_type": "code",
   "execution_count": 48,
   "id": "fb2c08a8",
   "metadata": {},
   "outputs": [],
   "source": [
    "z2_statistics,p2_value=ztest(data.SalePrice,value=175000,alternative=\"smaller\")\n",
    "#Null Hypothesis-> >175000\n",
    "#Alternate Hypothesis-> <175000"
   ]
  },
  {
   "cell_type": "code",
   "execution_count": 49,
   "id": "ecc8aa58",
   "metadata": {},
   "outputs": [
    {
     "data": {
      "text/plain": [
       "0.9999570446446843"
      ]
     },
     "execution_count": 49,
     "metadata": {},
     "output_type": "execute_result"
    }
   ],
   "source": [
    "p2_value"
   ]
  },
  {
   "cell_type": "code",
   "execution_count": 50,
   "id": "88e302da",
   "metadata": {},
   "outputs": [
    {
     "data": {
      "text/plain": [
       "4.295535531576864e-05"
      ]
     },
     "execution_count": 50,
     "metadata": {},
     "output_type": "execute_result"
    }
   ],
   "source": [
    "p1_value"
   ]
  },
  {
   "cell_type": "markdown",
   "id": "eccb8b8a",
   "metadata": {},
   "source": [
    "# T-Test"
   ]
  },
  {
   "cell_type": "markdown",
   "id": "abefa21a",
   "metadata": {},
   "source": [
    "## One sample and one tail t-test"
   ]
  },
  {
   "cell_type": "code",
   "execution_count": 52,
   "id": "d08223b1",
   "metadata": {},
   "outputs": [],
   "source": [
    "t_data=pd.Series([0.593, 0.142, 0.329, 0.691, 0.231, 0.793, 0.519, 0.392, 0.418])"
   ]
  },
  {
   "cell_type": "code",
   "execution_count": 58,
   "id": "79ccdfb9",
   "metadata": {},
   "outputs": [
    {
     "data": {
      "text/plain": [
       "pandas.core.series.Series"
      ]
     },
     "execution_count": 58,
     "metadata": {},
     "output_type": "execute_result"
    }
   ],
   "source": [
    "type(t_data)"
   ]
  },
  {
   "cell_type": "code",
   "execution_count": 61,
   "id": "9a56a78c",
   "metadata": {},
   "outputs": [
    {
     "data": {
      "text/plain": [
       "Ttest_1sampResult(statistic=2.2050588385131595, pvalue=0.9707348351575512)"
      ]
     },
     "execution_count": 61,
     "metadata": {},
     "output_type": "execute_result"
    }
   ],
   "source": [
    "stats.ttest_1samp(t_data,0.3,alternative=\"less\")"
   ]
  },
  {
   "cell_type": "markdown",
   "id": "020ac1fb",
   "metadata": {},
   "source": [
    "# Two Sample Test"
   ]
  },
  {
   "cell_type": "code",
   "execution_count": 68,
   "id": "96c61e3c",
   "metadata": {},
   "outputs": [],
   "source": [
    "control=pd.Series([91, 87, 99, 77, 88, 91])\n",
    "Treat=pd.Series([101, 110, 103, 93, 99, 104])\n",
    "\n"
   ]
  },
  {
   "cell_type": "code",
   "execution_count": 69,
   "id": "5e2cf703",
   "metadata": {},
   "outputs": [],
   "source": [
    "x=stats.ttest_ind(control,Treat)"
   ]
  },
  {
   "cell_type": "code",
   "execution_count": 70,
   "id": "01dcf85f",
   "metadata": {},
   "outputs": [
    {
     "data": {
      "text/plain": [
       "Ttest_indResult(statistic=-3.445612673536487, pvalue=0.006272124350809802)"
      ]
     },
     "execution_count": 70,
     "metadata": {},
     "output_type": "execute_result"
    }
   ],
   "source": [
    "x #Since the value is less than 0.05, we reject the null hypothesis,and the mean is not same \n",
    "#"
   ]
  },
  {
   "cell_type": "code",
   "execution_count": 74,
   "id": "ef8a2c31",
   "metadata": {},
   "outputs": [
    {
     "data": {
      "text/plain": [
       "Normal     2413\n",
       "Partial     245\n",
       "Abnorml     190\n",
       "Family       46\n",
       "Alloca       24\n",
       "AdjLand      12\n",
       "Name: Sale.Condition, dtype: int64"
      ]
     },
     "execution_count": 74,
     "metadata": {},
     "output_type": "execute_result"
    }
   ],
   "source": [
    "data[\"Sale.Condition\"].value_counts()"
   ]
  },
  {
   "cell_type": "code",
   "execution_count": 75,
   "id": "e39e4a51",
   "metadata": {},
   "outputs": [],
   "source": [
    "#Question check if the avg of Normal and partial are same?\n"
   ]
  },
  {
   "cell_type": "code",
   "execution_count": 78,
   "id": "fb556000",
   "metadata": {},
   "outputs": [],
   "source": [
    "Normal=data[data['Sale.Condition']=='Normal']['SalePrice']"
   ]
  },
  {
   "cell_type": "code",
   "execution_count": 79,
   "id": "092e2bd6",
   "metadata": {},
   "outputs": [
    {
     "data": {
      "text/plain": [
       "0       215000\n",
       "1       105000\n",
       "2       172000\n",
       "3       244000\n",
       "4       189900\n",
       "         ...  \n",
       "2925    142500\n",
       "2926    131000\n",
       "2927    132000\n",
       "2928    170000\n",
       "2929    188000\n",
       "Name: SalePrice, Length: 2413, dtype: int64"
      ]
     },
     "execution_count": 79,
     "metadata": {},
     "output_type": "execute_result"
    }
   ],
   "source": [
    "Normal"
   ]
  },
  {
   "cell_type": "code",
   "execution_count": null,
   "id": "fec526e9",
   "metadata": {},
   "outputs": [],
   "source": [
    "# We take Null hypothesis as if the avg of normal and partial houses price are equal\n",
    "#The alternate Hypothesis will be they are not equal."
   ]
  },
  {
   "cell_type": "code",
   "execution_count": 83,
   "id": "92c71508",
   "metadata": {},
   "outputs": [],
   "source": [
    "Partial=data[data['Sale.Condition']=='Partial']['SalePrice']"
   ]
  },
  {
   "cell_type": "code",
   "execution_count": 86,
   "id": "ce3a4bb8",
   "metadata": {},
   "outputs": [
    {
     "data": {
      "text/plain": [
       "Ttest_indResult(statistic=-19.6793088005836, pvalue=1.361639105260194e-80)"
      ]
     },
     "execution_count": 86,
     "metadata": {},
     "output_type": "execute_result"
    }
   ],
   "source": [
    "stats.ttest_ind(Normal,Partial)"
   ]
  },
  {
   "cell_type": "code",
   "execution_count": null,
   "id": "56421a84",
   "metadata": {},
   "outputs": [],
   "source": [
    "#We reject null hypothesis\n",
    "#As we get pvalue is less than 0.05, the avg sale price of Normal and Partial condition is not same"
   ]
  },
  {
   "cell_type": "markdown",
   "id": "746a7aba",
   "metadata": {},
   "source": [
    "## for 1 sided"
   ]
  },
  {
   "cell_type": "code",
   "execution_count": 87,
   "id": "f7b30f18",
   "metadata": {},
   "outputs": [
    {
     "data": {
      "text/plain": [
       "Ttest_indResult(statistic=-19.6793088005836, pvalue=6.80819552630097e-81)"
      ]
     },
     "execution_count": 87,
     "metadata": {},
     "output_type": "execute_result"
    }
   ],
   "source": [
    "stats.ttest_ind(Normal,Partial,alternative='less')"
   ]
  },
  {
   "cell_type": "markdown",
   "id": "47a65405",
   "metadata": {},
   "source": [
    "\n"
   ]
  },
  {
   "cell_type": "code",
   "execution_count": 88,
   "id": "2584af3a",
   "metadata": {},
   "outputs": [],
   "source": []
  },
  {
   "cell_type": "code",
   "execution_count": null,
   "id": "715ad4ba",
   "metadata": {},
   "outputs": [],
   "source": []
  }
 ],
 "metadata": {
  "kernelspec": {
   "display_name": "Python 3 (ipykernel)",
   "language": "python",
   "name": "python3"
  },
  "language_info": {
   "codemirror_mode": {
    "name": "ipython",
    "version": 3
   },
   "file_extension": ".py",
   "mimetype": "text/x-python",
   "name": "python",
   "nbconvert_exporter": "python",
   "pygments_lexer": "ipython3",
   "version": "3.9.5"
  }
 },
 "nbformat": 4,
 "nbformat_minor": 5
}
