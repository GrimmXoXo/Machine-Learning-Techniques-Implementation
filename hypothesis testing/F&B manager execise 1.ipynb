{
 "cells": [
  {
   "cell_type": "code",
   "execution_count": 1,
   "id": "599eff6f",
   "metadata": {},
   "outputs": [],
   "source": [
    "import pandas as pd\n",
    "import numpy as np\n",
    "import matplotlib.pyplot as plt\n",
    "import seaborn as sns"
   ]
  },
  {
   "cell_type": "code",
   "execution_count": 2,
   "id": "10e0eb34",
   "metadata": {},
   "outputs": [],
   "source": [
    "set1=pd.read_csv('Cutlets.csv')"
   ]
  },
  {
   "cell_type": "code",
   "execution_count": 3,
   "id": "49434d87",
   "metadata": {},
   "outputs": [
    {
     "data": {
      "text/html": [
       "<div>\n",
       "<style scoped>\n",
       "    .dataframe tbody tr th:only-of-type {\n",
       "        vertical-align: middle;\n",
       "    }\n",
       "\n",
       "    .dataframe tbody tr th {\n",
       "        vertical-align: top;\n",
       "    }\n",
       "\n",
       "    .dataframe thead th {\n",
       "        text-align: right;\n",
       "    }\n",
       "</style>\n",
       "<table border=\"1\" class=\"dataframe\">\n",
       "  <thead>\n",
       "    <tr style=\"text-align: right;\">\n",
       "      <th></th>\n",
       "      <th>Unit A</th>\n",
       "      <th>Unit B</th>\n",
       "    </tr>\n",
       "  </thead>\n",
       "  <tbody>\n",
       "    <tr>\n",
       "      <th>0</th>\n",
       "      <td>6.8090</td>\n",
       "      <td>6.7703</td>\n",
       "    </tr>\n",
       "    <tr>\n",
       "      <th>1</th>\n",
       "      <td>6.4376</td>\n",
       "      <td>7.5093</td>\n",
       "    </tr>\n",
       "    <tr>\n",
       "      <th>2</th>\n",
       "      <td>6.9157</td>\n",
       "      <td>6.7300</td>\n",
       "    </tr>\n",
       "    <tr>\n",
       "      <th>3</th>\n",
       "      <td>7.3012</td>\n",
       "      <td>6.7878</td>\n",
       "    </tr>\n",
       "    <tr>\n",
       "      <th>4</th>\n",
       "      <td>7.4488</td>\n",
       "      <td>7.1522</td>\n",
       "    </tr>\n",
       "  </tbody>\n",
       "</table>\n",
       "</div>"
      ],
      "text/plain": [
       "   Unit A  Unit B\n",
       "0  6.8090  6.7703\n",
       "1  6.4376  7.5093\n",
       "2  6.9157  6.7300\n",
       "3  7.3012  6.7878\n",
       "4  7.4488  7.1522"
      ]
     },
     "execution_count": 3,
     "metadata": {},
     "output_type": "execute_result"
    }
   ],
   "source": [
    "set1.head()"
   ]
  },
  {
   "cell_type": "code",
   "execution_count": 4,
   "id": "3fa141ae",
   "metadata": {},
   "outputs": [
    {
     "data": {
      "text/plain": [
       "(35, 2)"
      ]
     },
     "execution_count": 4,
     "metadata": {},
     "output_type": "execute_result"
    }
   ],
   "source": [
    "set1.shape #sample size=35 which is greater than 30 which means that we can use Normal distribution and perform Z test."
   ]
  },
  {
   "cell_type": "code",
   "execution_count": 55,
   "id": "d6974b08",
   "metadata": {},
   "outputs": [],
   "source": [
    "alpha=0.05\n",
    "#Null Hypothesis-> UnitA=UnitB\n",
    "#Alternate Hypothesis-> UnitA!=UnitB\n",
    "#As the comparison is equal and not equal we will use two sided test i.e both sides will have alpha/2"
   ]
  },
  {
   "cell_type": "code",
   "execution_count": null,
   "id": "42669a5f",
   "metadata": {},
   "outputs": [],
   "source": []
  },
  {
   "cell_type": "code",
   "execution_count": 24,
   "id": "427e3afd",
   "metadata": {},
   "outputs": [],
   "source": [
    "a=set1.describe()"
   ]
  },
  {
   "cell_type": "code",
   "execution_count": 25,
   "id": "0c2a999c",
   "metadata": {},
   "outputs": [
    {
     "data": {
      "text/html": [
       "<div>\n",
       "<style scoped>\n",
       "    .dataframe tbody tr th:only-of-type {\n",
       "        vertical-align: middle;\n",
       "    }\n",
       "\n",
       "    .dataframe tbody tr th {\n",
       "        vertical-align: top;\n",
       "    }\n",
       "\n",
       "    .dataframe thead th {\n",
       "        text-align: right;\n",
       "    }\n",
       "</style>\n",
       "<table border=\"1\" class=\"dataframe\">\n",
       "  <thead>\n",
       "    <tr style=\"text-align: right;\">\n",
       "      <th></th>\n",
       "      <th>Unit A</th>\n",
       "      <th>Unit B</th>\n",
       "    </tr>\n",
       "  </thead>\n",
       "  <tbody>\n",
       "    <tr>\n",
       "      <th>count</th>\n",
       "      <td>35.000000</td>\n",
       "      <td>35.000000</td>\n",
       "    </tr>\n",
       "    <tr>\n",
       "      <th>mean</th>\n",
       "      <td>7.019091</td>\n",
       "      <td>6.964297</td>\n",
       "    </tr>\n",
       "    <tr>\n",
       "      <th>std</th>\n",
       "      <td>0.288408</td>\n",
       "      <td>0.343401</td>\n",
       "    </tr>\n",
       "    <tr>\n",
       "      <th>min</th>\n",
       "      <td>6.437600</td>\n",
       "      <td>6.038000</td>\n",
       "    </tr>\n",
       "    <tr>\n",
       "      <th>25%</th>\n",
       "      <td>6.831500</td>\n",
       "      <td>6.753600</td>\n",
       "    </tr>\n",
       "    <tr>\n",
       "      <th>50%</th>\n",
       "      <td>6.943800</td>\n",
       "      <td>6.939900</td>\n",
       "    </tr>\n",
       "    <tr>\n",
       "      <th>75%</th>\n",
       "      <td>7.280550</td>\n",
       "      <td>7.195000</td>\n",
       "    </tr>\n",
       "    <tr>\n",
       "      <th>max</th>\n",
       "      <td>7.516900</td>\n",
       "      <td>7.545900</td>\n",
       "    </tr>\n",
       "  </tbody>\n",
       "</table>\n",
       "</div>"
      ],
      "text/plain": [
       "          Unit A     Unit B\n",
       "count  35.000000  35.000000\n",
       "mean    7.019091   6.964297\n",
       "std     0.288408   0.343401\n",
       "min     6.437600   6.038000\n",
       "25%     6.831500   6.753600\n",
       "50%     6.943800   6.939900\n",
       "75%     7.280550   7.195000\n",
       "max     7.516900   7.545900"
      ]
     },
     "execution_count": 25,
     "metadata": {},
     "output_type": "execute_result"
    }
   ],
   "source": [
    "a"
   ]
  },
  {
   "cell_type": "code",
   "execution_count": 28,
   "id": "ce0af82c",
   "metadata": {},
   "outputs": [],
   "source": [
    "UnitA_mean=7.019091\n",
    "UnitB_mean=6.964297\n",
    "UnitA_std=0.288408\n",
    "UnitB_std=0.343401"
   ]
  },
  {
   "cell_type": "code",
   "execution_count": 53,
   "id": "19ce7b35",
   "metadata": {},
   "outputs": [],
   "source": [
    "standard_Error=np.sqrt((np.square(UnitA_std)/35)+(np.square(UnitB_std)/35))#Added the standard Error for both the Units "
   ]
  },
  {
   "cell_type": "code",
   "execution_count": 54,
   "id": "94c76b35",
   "metadata": {},
   "outputs": [
    {
     "data": {
      "text/plain": [
       "0.0758011347945587"
      ]
     },
     "execution_count": 54,
     "metadata": {},
     "output_type": "execute_result"
    }
   ],
   "source": [
    "standard_Error"
   ]
  },
  {
   "cell_type": "code",
   "execution_count": 40,
   "id": "b55cd2b0",
   "metadata": {},
   "outputs": [],
   "source": [
    "Z=(UnitA_mean-UnitB_mean)/standard_Error# Z calculation for 2 units is meanA-meanB/totalstd error"
   ]
  },
  {
   "cell_type": "code",
   "execution_count": 46,
   "id": "0f81af85",
   "metadata": {},
   "outputs": [
    {
     "data": {
      "text/plain": [
       "0.7228651675005472"
      ]
     },
     "execution_count": 46,
     "metadata": {},
     "output_type": "execute_result"
    }
   ],
   "source": [
    "Z"
   ]
  },
  {
   "cell_type": "markdown",
   "id": "7f783f73",
   "metadata": {},
   "source": [
    "# Two ways to solve this"
   ]
  },
  {
   "cell_type": "code",
   "execution_count": 44,
   "id": "5a88ae5a",
   "metadata": {},
   "outputs": [],
   "source": [
    "import scipy.stats as stats"
   ]
  },
  {
   "cell_type": "markdown",
   "id": "7fcb9ed9",
   "metadata": {},
   "source": [
    "## 1st method-> convert the z score which we got to probability and compare with alpha"
   ]
  },
  {
   "cell_type": "code",
   "execution_count": 59,
   "id": "27fd8e53",
   "metadata": {},
   "outputs": [],
   "source": [
    "P_Value=stats.norm.cdf(Z)#P value"
   ]
  },
  {
   "cell_type": "code",
   "execution_count": null,
   "id": "19588dfc",
   "metadata": {},
   "outputs": [],
   "source": []
  },
  {
   "cell_type": "code",
   "execution_count": 60,
   "id": "f073e768",
   "metadata": {},
   "outputs": [
    {
     "name": "stdout",
     "output_type": "stream",
     "text": [
      "Failed to Reject Null Hypothesis\n"
     ]
    }
   ],
   "source": [
    "if P_Value>alpha:\n",
    "    print(\"Failed to Reject Null Hypothesis\")\n",
    "else:\n",
    "    print(\"Reject Null Hypothesis\")"
   ]
  },
  {
   "cell_type": "markdown",
   "id": "1e099d88",
   "metadata": {},
   "source": [
    "## 2nd method-> convert the alpha/2 to z value and compare to our z value"
   ]
  },
  {
   "cell_type": "code",
   "execution_count": 61,
   "id": "2bd008c6",
   "metadata": {},
   "outputs": [],
   "source": [
    "Lower_Limit=stats.norm.ppf(alpha/2)#2 sided lower limit"
   ]
  },
  {
   "cell_type": "code",
   "execution_count": 73,
   "id": "04c6c444",
   "metadata": {},
   "outputs": [],
   "source": [
    "Upper_Limit=-Lower_Limit#As graph is symmetric we can just inverse the sign for upper limit"
   ]
  },
  {
   "cell_type": "code",
   "execution_count": 74,
   "id": "b34b5c6d",
   "metadata": {},
   "outputs": [
    {
     "data": {
      "text/plain": [
       "0.7228651675005472"
      ]
     },
     "execution_count": 74,
     "metadata": {},
     "output_type": "execute_result"
    }
   ],
   "source": [
    "Z"
   ]
  },
  {
   "cell_type": "code",
   "execution_count": 63,
   "id": "11a4259d",
   "metadata": {},
   "outputs": [
    {
     "name": "stdout",
     "output_type": "stream",
     "text": [
      "Failed to Reject Null Hypothesis\n"
     ]
    }
   ],
   "source": [
    "if (Z>Upper_Limit)| (Z<Lower_Limit):\n",
    "    print(\"Reject Null Hypothesis\")\n",
    "else:\n",
    "    print(\"Failed to Reject Null Hypothesis\")\n",
    "    "
   ]
  },
  {
   "cell_type": "markdown",
   "id": "c94cf56b",
   "metadata": {},
   "source": [
    "# 3rd Method Directly finding with stats class"
   ]
  },
  {
   "cell_type": "code",
   "execution_count": 65,
   "id": "bdf826ce",
   "metadata": {},
   "outputs": [],
   "source": [
    "from statsmodels.stats.weightstats import ztest"
   ]
  },
  {
   "cell_type": "code",
   "execution_count": 68,
   "id": "215a054d",
   "metadata": {},
   "outputs": [],
   "source": [
    "A=set1['Unit A'].tolist()\n",
    "B=set1['Unit B'].tolist()"
   ]
  },
  {
   "cell_type": "code",
   "execution_count": 69,
   "id": "73fe9398",
   "metadata": {},
   "outputs": [],
   "source": [
    "zvalue_,p_val=ztest(A,B)"
   ]
  },
  {
   "cell_type": "code",
   "execution_count": 70,
   "id": "63c8530f",
   "metadata": {},
   "outputs": [
    {
     "data": {
      "text/plain": [
       "0.7228688704678063"
      ]
     },
     "execution_count": 70,
     "metadata": {},
     "output_type": "execute_result"
    }
   ],
   "source": [
    "zvalue_"
   ]
  },
  {
   "cell_type": "code",
   "execution_count": 71,
   "id": "b5062964",
   "metadata": {},
   "outputs": [
    {
     "data": {
      "text/plain": [
       "0.46976045023906055"
      ]
     },
     "execution_count": 71,
     "metadata": {},
     "output_type": "execute_result"
    }
   ],
   "source": [
    "p_val"
   ]
  },
  {
   "cell_type": "code",
   "execution_count": 79,
   "id": "b49f07a2",
   "metadata": {},
   "outputs": [
    {
     "name": "stdout",
     "output_type": "stream",
     "text": [
      "Failed to Reject Null Hypothesis\n"
     ]
    }
   ],
   "source": [
    "if p_val>alpha:\n",
    "    print(\"Failed to Reject Null Hypothesis\")\n",
    "else:\n",
    "    print(\"Reject Null Hypothesis\")\n",
    "    "
   ]
  },
  {
   "cell_type": "markdown",
   "id": "57fbc1bf",
   "metadata": {},
   "source": [
    "# Conclusion Unit A=Unit B"
   ]
  },
  {
   "cell_type": "code",
   "execution_count": null,
   "id": "8c536f23",
   "metadata": {},
   "outputs": [],
   "source": []
  }
 ],
 "metadata": {
  "kernelspec": {
   "display_name": "Python 3 (ipykernel)",
   "language": "python",
   "name": "python3"
  },
  "language_info": {
   "codemirror_mode": {
    "name": "ipython",
    "version": 3
   },
   "file_extension": ".py",
   "mimetype": "text/x-python",
   "name": "python",
   "nbconvert_exporter": "python",
   "pygments_lexer": "ipython3",
   "version": "3.9.5"
  }
 },
 "nbformat": 4,
 "nbformat_minor": 5
}
